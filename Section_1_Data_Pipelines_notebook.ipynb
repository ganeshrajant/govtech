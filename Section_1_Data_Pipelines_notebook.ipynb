{
  "nbformat": 4,
  "nbformat_minor": 0,
  "metadata": {
    "colab": {
      "name": "Section 1: Data Pipelines.ipynb",
      "provenance": [],
      "collapsed_sections": []
    },
    "kernelspec": {
      "name": "python3",
      "display_name": "Python 3"
    },
    "language_info": {
      "name": "python"
    }
  },
  "cells": [
    {
      "cell_type": "code",
      "metadata": {
        "id": "zYZXsA6OuoC3"
      },
      "source": [
        "# importing necessary libraries\n",
        "import numpy as np\n",
        "import pandas as pd\n",
        "import matplotlib.pyplot as plt"
      ],
      "execution_count": 19,
      "outputs": []
    },
    {
      "cell_type": "code",
      "metadata": {
        "id": "ekk761kNusmu"
      },
      "source": [
        "# Read the dataset1.csv and dataset2.csv file\n",
        "dataset1 = pd.read_csv('dataset1.csv')\n",
        "dataset2 = pd.read_csv('dataset2.csv')"
      ],
      "execution_count": 20,
      "outputs": []
    },
    {
      "cell_type": "code",
      "metadata": {
        "colab": {
          "base_uri": "https://localhost:8080/",
          "height": 195
        },
        "id": "cZUISCsduuZ-",
        "outputId": "85ee7f5d-2cdb-4f6e-88e1-c242cb37c4b2"
      },
      "source": [
        "# show first 5 rows of dataset1\n",
        "dataset1.head()"
      ],
      "execution_count": 21,
      "outputs": [
        {
          "output_type": "execute_result",
          "data": {
            "text/html": [
              "<div>\n",
              "<style scoped>\n",
              "    .dataframe tbody tr th:only-of-type {\n",
              "        vertical-align: middle;\n",
              "    }\n",
              "\n",
              "    .dataframe tbody tr th {\n",
              "        vertical-align: top;\n",
              "    }\n",
              "\n",
              "    .dataframe thead th {\n",
              "        text-align: right;\n",
              "    }\n",
              "</style>\n",
              "<table border=\"1\" class=\"dataframe\">\n",
              "  <thead>\n",
              "    <tr style=\"text-align: right;\">\n",
              "      <th></th>\n",
              "      <th>name</th>\n",
              "      <th>price</th>\n",
              "    </tr>\n",
              "  </thead>\n",
              "  <tbody>\n",
              "    <tr>\n",
              "      <th>0</th>\n",
              "      <td>William Dixon</td>\n",
              "      <td>109.037280</td>\n",
              "    </tr>\n",
              "    <tr>\n",
              "      <th>1</th>\n",
              "      <td>Kristen Horn</td>\n",
              "      <td>262.524652</td>\n",
              "    </tr>\n",
              "    <tr>\n",
              "      <th>2</th>\n",
              "      <td>Kimberly Chang</td>\n",
              "      <td>187.007258</td>\n",
              "    </tr>\n",
              "    <tr>\n",
              "      <th>3</th>\n",
              "      <td>Mary Ball</td>\n",
              "      <td>283.174648</td>\n",
              "    </tr>\n",
              "    <tr>\n",
              "      <th>4</th>\n",
              "      <td>Benjamin Craig</td>\n",
              "      <td>143.871582</td>\n",
              "    </tr>\n",
              "  </tbody>\n",
              "</table>\n",
              "</div>"
            ],
            "text/plain": [
              "             name       price\n",
              "0   William Dixon  109.037280\n",
              "1    Kristen Horn  262.524652\n",
              "2  Kimberly Chang  187.007258\n",
              "3       Mary Ball  283.174648\n",
              "4  Benjamin Craig  143.871582"
            ]
          },
          "metadata": {
            "tags": []
          },
          "execution_count": 21
        }
      ]
    },
    {
      "cell_type": "code",
      "metadata": {
        "colab": {
          "base_uri": "https://localhost:8080/",
          "height": 195
        },
        "id": "RLF4-MhtuwI6",
        "outputId": "32c1fc1a-f242-41ab-9d3d-1f939582936c"
      },
      "source": [
        "# show first 5 rows of dataset2\n",
        "dataset2.head()"
      ],
      "execution_count": 22,
      "outputs": [
        {
          "output_type": "execute_result",
          "data": {
            "text/html": [
              "<div>\n",
              "<style scoped>\n",
              "    .dataframe tbody tr th:only-of-type {\n",
              "        vertical-align: middle;\n",
              "    }\n",
              "\n",
              "    .dataframe tbody tr th {\n",
              "        vertical-align: top;\n",
              "    }\n",
              "\n",
              "    .dataframe thead th {\n",
              "        text-align: right;\n",
              "    }\n",
              "</style>\n",
              "<table border=\"1\" class=\"dataframe\">\n",
              "  <thead>\n",
              "    <tr style=\"text-align: right;\">\n",
              "      <th></th>\n",
              "      <th>name</th>\n",
              "      <th>price</th>\n",
              "    </tr>\n",
              "  </thead>\n",
              "  <tbody>\n",
              "    <tr>\n",
              "      <th>0</th>\n",
              "      <td>William Garcia</td>\n",
              "      <td>258.1809089</td>\n",
              "    </tr>\n",
              "    <tr>\n",
              "      <th>1</th>\n",
              "      <td>Barbara Freeman</td>\n",
              "      <td>141.890534</td>\n",
              "    </tr>\n",
              "    <tr>\n",
              "      <th>2</th>\n",
              "      <td>Rebecca Zimmerman</td>\n",
              "      <td>293.373272</td>\n",
              "    </tr>\n",
              "    <tr>\n",
              "      <th>3</th>\n",
              "      <td>Patricia Velasquez</td>\n",
              "      <td>249.9479246</td>\n",
              "    </tr>\n",
              "    <tr>\n",
              "      <th>4</th>\n",
              "      <td>Ronnie Clark</td>\n",
              "      <td>272.908659</td>\n",
              "    </tr>\n",
              "  </tbody>\n",
              "</table>\n",
              "</div>"
            ],
            "text/plain": [
              "                 name        price\n",
              "0      William Garcia  258.1809089\n",
              "1     Barbara Freeman   141.890534\n",
              "2   Rebecca Zimmerman   293.373272\n",
              "3  Patricia Velasquez  249.9479246\n",
              "4        Ronnie Clark   272.908659"
            ]
          },
          "metadata": {
            "tags": []
          },
          "execution_count": 22
        }
      ]
    },
    {
      "cell_type": "code",
      "metadata": {
        "colab": {
          "base_uri": "https://localhost:8080/"
        },
        "id": "B3_15yWZu1ET",
        "outputId": "61787a38-a518-403e-ddc1-1d758700750f"
      },
      "source": [
        "# show the shapes of dataset1 and dataset2\n",
        "print(f\"Shape of dataset1 is {dataset1.shape}\")\n",
        "print(f\"Shape of dataset2 is {dataset2.shape}\")"
      ],
      "execution_count": 23,
      "outputs": [
        {
          "output_type": "stream",
          "text": [
            "Shape of dataset1 is (5000, 2)\n",
            "Shape of dataset2 is (5000, 2)\n"
          ],
          "name": "stdout"
        }
      ]
    },
    {
      "cell_type": "code",
      "metadata": {
        "colab": {
          "base_uri": "https://localhost:8080/"
        },
        "id": "21fXiud_vFaO",
        "outputId": "f9a15009-3b0d-421d-d063-2bd441e99f25"
      },
      "source": [
        "# Preprocessing 1: Split the name field into first_name, and last_name\n",
        "# We will split() the name and take the first split word as first name and the last split word as last name\n",
        "\n",
        "# For dataset 1\n",
        "dataset1.loc[dataset1['name'].str.split().str.len() == 2, 'first name'] = dataset1['name'].str.split().str[0]\n",
        "dataset1.loc[dataset1['name'].str.split().str.len() == 2, 'last name'] = dataset1['name'].str.split().str[-1]\n",
        "\n",
        "print(f\"After spliting name into first and last name, dataset1: \\n\\n {dataset1.head()}\")\n",
        "\n",
        "# For dataset 2\n",
        "dataset2.loc[dataset2['name'].str.split().str.len() == 2, 'first name'] = dataset2['name'].str.split().str[0]\n",
        "dataset2.loc[dataset2['name'].str.split().str.len() == 2, 'last name'] = dataset2['name'].str.split().str[-1]\n",
        "\n",
        "print(f\"\\n\\nAfter spliting name into first and last name, dataset1: \\n\\n {dataset2.head()}\")"
      ],
      "execution_count": 24,
      "outputs": [
        {
          "output_type": "stream",
          "text": [
            "After spliting name into first and last name, dataset1: \n",
            "\n",
            "              name       price first name last name\n",
            "0   William Dixon  109.037280    William     Dixon\n",
            "1    Kristen Horn  262.524652    Kristen      Horn\n",
            "2  Kimberly Chang  187.007258   Kimberly     Chang\n",
            "3       Mary Ball  283.174648       Mary      Ball\n",
            "4  Benjamin Craig  143.871582   Benjamin     Craig\n",
            "\n",
            "\n",
            "After spliting name into first and last name, dataset1: \n",
            "\n",
            "                  name        price first name  last name\n",
            "0      William Garcia  258.1809089    William     Garcia\n",
            "1     Barbara Freeman   141.890534    Barbara    Freeman\n",
            "2   Rebecca Zimmerman   293.373272    Rebecca  Zimmerman\n",
            "3  Patricia Velasquez  249.9479246   Patricia  Velasquez\n",
            "4        Ronnie Clark   272.908659     Ronnie      Clark\n"
          ],
          "name": "stdout"
        }
      ]
    },
    {
      "cell_type": "code",
      "metadata": {
        "colab": {
          "base_uri": "https://localhost:8080/"
        },
        "id": "NXGrSXN0viA7",
        "outputId": "eeefdbc2-b887-4a92-db52-3fdb938bf2bf"
      },
      "source": [
        "dataset1.dtypes"
      ],
      "execution_count": 25,
      "outputs": [
        {
          "output_type": "execute_result",
          "data": {
            "text/plain": [
              "name           object\n",
              "price         float64\n",
              "first name     object\n",
              "last name      object\n",
              "dtype: object"
            ]
          },
          "metadata": {
            "tags": []
          },
          "execution_count": 25
        }
      ]
    },
    {
      "cell_type": "code",
      "metadata": {
        "colab": {
          "base_uri": "https://localhost:8080/"
        },
        "id": "1R_VBAVUTD4E",
        "outputId": "47b5b73c-116b-4849-92ca-e07b62e5b32d"
      },
      "source": [
        "dataset2.dtypes"
      ],
      "execution_count": 26,
      "outputs": [
        {
          "output_type": "execute_result",
          "data": {
            "text/plain": [
              "name          object\n",
              "price         object\n",
              "first name    object\n",
              "last name     object\n",
              "dtype: object"
            ]
          },
          "metadata": {
            "tags": []
          },
          "execution_count": 26
        }
      ]
    },
    {
      "cell_type": "code",
      "metadata": {
        "id": "J9x5F85-wSel"
      },
      "source": [
        "# Preprocessing 2: Remove any zeros prepended to the price field\n",
        "\n",
        "# Convert the price column to string and then remove any prepend zeros\n",
        "dataset1[\"price\"] = dataset1[\"price\"].astype('str')\n",
        "dataset2[\"price\"] = dataset2[\"price\"].astype('str')\n",
        "\n",
        "dataset1[\"price\"] = dataset1[\"price\"].str.lstrip('0')\n",
        "dataset2[\"price\"] = dataset2[\"price\"].str.lstrip('0')"
      ],
      "execution_count": 27,
      "outputs": []
    },
    {
      "cell_type": "code",
      "metadata": {
        "id": "o2ZVV1bhw7g4"
      },
      "source": [
        "# Preprocessing 3: Delete any rows which do not have a name\n",
        "# We will drop null values for the column 'name'\n",
        "\n",
        "dataset1 = dataset1.dropna(axis=0, subset=['name'])\n",
        "dataset2 = dataset2.dropna(axis=0, subset=['name'])"
      ],
      "execution_count": 28,
      "outputs": []
    },
    {
      "cell_type": "code",
      "metadata": {
        "colab": {
          "base_uri": "https://localhost:8080/"
        },
        "id": "7VlTWr4NxsGn",
        "outputId": "86057dd7-164f-4a8c-be8c-5818fb74fe7f"
      },
      "source": [
        "# Preprocessing 4: Create a new field named above_100, which is true if the price is strictly greater than 100\n",
        "# We will use numpy where to filter values geater than 100 and assign it to True for the new column\n",
        "\n",
        "print(f\"Checking dtypes of Price column in both dataset: \\n\\n\")\n",
        "print(f\"dataset1 dtypes:\\n {dataset1.dtypes}\\n\\n\")\n",
        "print(f\"dataset2 dtypes: \\n{dataset2.dtypes}\\n\\n\")\n",
        "\n",
        "print(f\"Changing dtype of dataset1['price'] and dataset2['price'] to float64\\n\\n\")\n",
        "dataset1[\"price\"] = dataset1.price.astype(\"float64\")\n",
        "dataset2[\"price\"] = dataset2.price.astype(\"float64\")\n",
        "\n",
        "dataset1['above_100'] = np.where(dataset1['price'] > 100.0, True, False)\n",
        "dataset2['above_100'] = np.where(dataset2['price'] > 100.0, True, False)\n",
        "\n",
        "print(f\"conversion finished\")"
      ],
      "execution_count": 29,
      "outputs": [
        {
          "output_type": "stream",
          "text": [
            "Checking dtypes of Price column in both dataset: \n",
            "\n",
            "\n",
            "dataset1 dtypes:\n",
            " name          object\n",
            "price         object\n",
            "first name    object\n",
            "last name     object\n",
            "dtype: object\n",
            "\n",
            "\n",
            "dataset2 dtypes: \n",
            "name          object\n",
            "price         object\n",
            "first name    object\n",
            "last name     object\n",
            "dtype: object\n",
            "\n",
            "\n",
            "Changing dtype of dataset1['price'] and dataset2['price'] to float64\n",
            "\n",
            "\n",
            "conversion finished\n"
          ],
          "name": "stdout"
        }
      ]
    },
    {
      "cell_type": "code",
      "metadata": {
        "colab": {
          "base_uri": "https://localhost:8080/"
        },
        "id": "yBhOqr0oygso",
        "outputId": "282ca826-642f-42d9-860b-fbf3f436e9d5"
      },
      "source": [
        "# printing both datasets after processing\n",
        "\n",
        "print(f\"dataset1:\\n\\n {dataset1.head(10)}\")\n",
        "print(f\"\\ndataset2:\\n\\n {dataset2.head(10)}\")"
      ],
      "execution_count": 30,
      "outputs": [
        {
          "output_type": "stream",
          "text": [
            "dataset1:\n",
            "\n",
            "                 name       price first name last name  above_100\n",
            "0      William Dixon  109.037280    William     Dixon       True\n",
            "1       Kristen Horn  262.524652    Kristen      Horn       True\n",
            "2     Kimberly Chang  187.007258   Kimberly     Chang       True\n",
            "3          Mary Ball  283.174648       Mary      Ball       True\n",
            "4     Benjamin Craig  143.871582   Benjamin     Craig       True\n",
            "5       Cathy Werner   61.508991      Cathy    Werner      False\n",
            "6       Brandon Bell   48.637309    Brandon      Bell      False\n",
            "7        Paul Farley   12.389465       Paul    Farley      False\n",
            "8     Sarah Mcdaniel  151.595447      Sarah  Mcdaniel       True\n",
            "9  Caroline Anderson   75.621521   Caroline  Anderson      False\n",
            "\n",
            "dataset2:\n",
            "\n",
            "                  name       price first name  last name  above_100\n",
            "0      William Garcia  258.180909    William     Garcia       True\n",
            "1     Barbara Freeman  141.890534    Barbara    Freeman       True\n",
            "2   Rebecca Zimmerman  293.373272    Rebecca  Zimmerman       True\n",
            "3  Patricia Velasquez  249.947925   Patricia  Velasquez       True\n",
            "4        Ronnie Clark  272.908659     Ronnie      Clark       True\n",
            "5        Timothy Rose   65.743270    Timothy       Rose      False\n",
            "6      Joshua Ramirez   64.549974     Joshua    Ramirez      False\n",
            "7       Joseph Dawson  111.017138     Joseph     Dawson       True\n",
            "8         Robert Rios   87.317980     Robert       Rios      False\n",
            "9      Karen Mitchell  277.251154      Karen   Mitchell       True\n"
          ],
          "name": "stdout"
        }
      ]
    },
    {
      "cell_type": "code",
      "metadata": {
        "id": "aqU3xTcRymqC"
      },
      "source": [
        "# Saving the processed files\n",
        "dataset1.to_csv(\"processed_dataset1.csv\", index=False)\n",
        "dataset2.to_csv(\"processed_dataset2.csv\", index=False)"
      ],
      "execution_count": 31,
      "outputs": []
    },
    {
      "cell_type": "code",
      "metadata": {
        "id": "eubdyXJBVDTn"
      },
      "source": [
        ""
      ],
      "execution_count": null,
      "outputs": []
    }
  ]
}
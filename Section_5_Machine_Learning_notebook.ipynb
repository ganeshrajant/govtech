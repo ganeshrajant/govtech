{
  "nbformat": 4,
  "nbformat_minor": 0,
  "metadata": {
    "colab": {
      "name": "Section 5: Machine Learning.ipynb",
      "provenance": [],
      "collapsed_sections": []
    },
    "kernelspec": {
      "name": "python3",
      "display_name": "Python 3"
    },
    "language_info": {
      "name": "python"
    }
  },
  "cells": [
    {
      "cell_type": "code",
      "metadata": {
        "id": "Sau1D_MI03Bs"
      },
      "source": [
        "import numpy as np\n",
        "import pandas as pd\n",
        "import matplotlib.pyplot as plt\n",
        "import seaborn as sns\n",
        "%matplotlib inline"
      ],
      "execution_count": null,
      "outputs": []
    },
    {
      "cell_type": "code",
      "metadata": {
        "id": "eHaH77K9_ll8"
      },
      "source": [
        "sns.set_style(\"whitegrid\")"
      ],
      "execution_count": null,
      "outputs": []
    },
    {
      "cell_type": "code",
      "metadata": {
        "id": "WOcZaW4x3cau"
      },
      "source": [
        "# Read the dataset file\n",
        "with open('car.data', 'r') as f:\n",
        "  car_data = f.readlines()"
      ],
      "execution_count": null,
      "outputs": []
    },
    {
      "cell_type": "code",
      "metadata": {
        "id": "_PSK12C_3qLC"
      },
      "source": [
        "# Preprocess and clean the data\n",
        "cleaned_car_data = [data.replace('\\n', '').split(',') for data in car_data]"
      ],
      "execution_count": null,
      "outputs": []
    },
    {
      "cell_type": "code",
      "metadata": {
        "colab": {
          "base_uri": "https://localhost:8080/",
          "height": 195
        },
        "id": "WcKu3V6k3rbV",
        "outputId": "5e422c92-a07f-4b48-9cb1-b68d6061acac"
      },
      "source": [
        "# Create pandas dataframe from the cleaned car data\n",
        "car_df = pd.DataFrame(cleaned_car_data, columns=[\"buying\", \"maint\", \"doors\", \"persons\", \"lug_boot\", \"safety\", \"class\"])\n",
        "car_df.head(5)"
      ],
      "execution_count": null,
      "outputs": [
        {
          "output_type": "execute_result",
          "data": {
            "text/html": [
              "<div>\n",
              "<style scoped>\n",
              "    .dataframe tbody tr th:only-of-type {\n",
              "        vertical-align: middle;\n",
              "    }\n",
              "\n",
              "    .dataframe tbody tr th {\n",
              "        vertical-align: top;\n",
              "    }\n",
              "\n",
              "    .dataframe thead th {\n",
              "        text-align: right;\n",
              "    }\n",
              "</style>\n",
              "<table border=\"1\" class=\"dataframe\">\n",
              "  <thead>\n",
              "    <tr style=\"text-align: right;\">\n",
              "      <th></th>\n",
              "      <th>buying</th>\n",
              "      <th>maint</th>\n",
              "      <th>doors</th>\n",
              "      <th>persons</th>\n",
              "      <th>lug_boot</th>\n",
              "      <th>safety</th>\n",
              "      <th>class</th>\n",
              "    </tr>\n",
              "  </thead>\n",
              "  <tbody>\n",
              "    <tr>\n",
              "      <th>0</th>\n",
              "      <td>vhigh</td>\n",
              "      <td>vhigh</td>\n",
              "      <td>2</td>\n",
              "      <td>2</td>\n",
              "      <td>small</td>\n",
              "      <td>low</td>\n",
              "      <td>unacc</td>\n",
              "    </tr>\n",
              "    <tr>\n",
              "      <th>1</th>\n",
              "      <td>vhigh</td>\n",
              "      <td>vhigh</td>\n",
              "      <td>2</td>\n",
              "      <td>2</td>\n",
              "      <td>small</td>\n",
              "      <td>med</td>\n",
              "      <td>unacc</td>\n",
              "    </tr>\n",
              "    <tr>\n",
              "      <th>2</th>\n",
              "      <td>vhigh</td>\n",
              "      <td>vhigh</td>\n",
              "      <td>2</td>\n",
              "      <td>2</td>\n",
              "      <td>small</td>\n",
              "      <td>high</td>\n",
              "      <td>unacc</td>\n",
              "    </tr>\n",
              "    <tr>\n",
              "      <th>3</th>\n",
              "      <td>vhigh</td>\n",
              "      <td>vhigh</td>\n",
              "      <td>2</td>\n",
              "      <td>2</td>\n",
              "      <td>med</td>\n",
              "      <td>low</td>\n",
              "      <td>unacc</td>\n",
              "    </tr>\n",
              "    <tr>\n",
              "      <th>4</th>\n",
              "      <td>vhigh</td>\n",
              "      <td>vhigh</td>\n",
              "      <td>2</td>\n",
              "      <td>2</td>\n",
              "      <td>med</td>\n",
              "      <td>med</td>\n",
              "      <td>unacc</td>\n",
              "    </tr>\n",
              "  </tbody>\n",
              "</table>\n",
              "</div>"
            ],
            "text/plain": [
              "  buying  maint doors persons lug_boot safety  class\n",
              "0  vhigh  vhigh     2       2    small    low  unacc\n",
              "1  vhigh  vhigh     2       2    small    med  unacc\n",
              "2  vhigh  vhigh     2       2    small   high  unacc\n",
              "3  vhigh  vhigh     2       2      med    low  unacc\n",
              "4  vhigh  vhigh     2       2      med    med  unacc"
            ]
          },
          "metadata": {
            "tags": []
          },
          "execution_count": 5
        }
      ]
    },
    {
      "cell_type": "code",
      "metadata": {
        "colab": {
          "base_uri": "https://localhost:8080/"
        },
        "id": "gIHyXpXA4cuq",
        "outputId": "7cc8b405-6326-4374-935b-0a5d7dce2f02"
      },
      "source": [
        "# Checking the details of the dataset\n",
        "car_df.info()"
      ],
      "execution_count": null,
      "outputs": [
        {
          "output_type": "stream",
          "text": [
            "<class 'pandas.core.frame.DataFrame'>\n",
            "RangeIndex: 1728 entries, 0 to 1727\n",
            "Data columns (total 7 columns):\n",
            " #   Column    Non-Null Count  Dtype \n",
            "---  ------    --------------  ----- \n",
            " 0   buying    1728 non-null   object\n",
            " 1   maint     1728 non-null   object\n",
            " 2   doors     1728 non-null   object\n",
            " 3   persons   1728 non-null   object\n",
            " 4   lug_boot  1728 non-null   object\n",
            " 5   safety    1728 non-null   object\n",
            " 6   class     1728 non-null   object\n",
            "dtypes: object(7)\n",
            "memory usage: 94.6+ KB\n"
          ],
          "name": "stdout"
        }
      ]
    },
    {
      "cell_type": "code",
      "metadata": {
        "colab": {
          "base_uri": "https://localhost:8080/"
        },
        "id": "MlgpRdlw4liI",
        "outputId": "3f9ccb36-29fe-4224-f720-326efd47d3a8"
      },
      "source": [
        "# Checking for missing values\n",
        "car_df.isnull().sum()"
      ],
      "execution_count": null,
      "outputs": [
        {
          "output_type": "execute_result",
          "data": {
            "text/plain": [
              "buying      0\n",
              "maint       0\n",
              "doors       0\n",
              "persons     0\n",
              "lug_boot    0\n",
              "safety      0\n",
              "class       0\n",
              "dtype: int64"
            ]
          },
          "metadata": {
            "tags": []
          },
          "execution_count": 7
        }
      ]
    },
    {
      "cell_type": "code",
      "metadata": {
        "colab": {
          "base_uri": "https://localhost:8080/",
          "height": 296
        },
        "id": "fRmaeGtL4qJO",
        "outputId": "45b2fd2c-5710-4e71-c1df-97f499854baf"
      },
      "source": [
        "# EDA of the variables\n",
        "# Count of the 'buying' target variable\n",
        "sns.countplot(x=car_df['buying'])"
      ],
      "execution_count": null,
      "outputs": [
        {
          "output_type": "execute_result",
          "data": {
            "text/plain": [
              "<matplotlib.axes._subplots.AxesSubplot at 0x7f2ff6f10a90>"
            ]
          },
          "metadata": {
            "tags": []
          },
          "execution_count": 8
        },
        {
          "output_type": "display_data",
          "data": {
            "image/png": "[encoded data removed]",
            "text/plain": [
              "<Figure size 432x288 with 1 Axes>"
            ]
          },
          "metadata": {
            "tags": [],
            "needs_background": "light"
          }
        }
      ]
    },
    {
      "cell_type": "code",
      "metadata": {
        "colab": {
          "base_uri": "https://localhost:8080/",
          "height": 296
        },
        "id": "aajuJq19HpnH",
        "outputId": "71f2b9ec-86cc-4ed9-8d08-325447ab4950"
      },
      "source": [
        "# plotting unique counts of \"maint\"\n",
        "sns.countplot(x=car_df[\"maint\"])"
      ],
      "execution_count": null,
      "outputs": [
        {
          "output_type": "execute_result",
          "data": {
            "text/plain": [
              "<matplotlib.axes._subplots.AxesSubplot at 0x7f2ff653e210>"
            ]
          },
          "metadata": {
            "tags": []
          },
          "execution_count": 9
        },
        {
          "output_type": "display_data",
          "data": {
            "image/png": "[encoded data removed]",
            "text/plain": [
              "<Figure size 432x288 with 1 Axes>"
            ]
          },
          "metadata": {
            "tags": [],
            "needs_background": "light"
          }
        }
      ]
    },
    {
      "cell_type": "code",
      "metadata": {
        "colab": {
          "base_uri": "https://localhost:8080/",
          "height": 296
        },
        "id": "6ulSA097H2zH",
        "outputId": "f3f1ba6a-722c-4c4d-c976-1dda3e2827d1"
      },
      "source": [
        "# plotting unique counts of \"doors\"\n",
        "sns.countplot(x=car_df[\"doors\"])"
      ],
      "execution_count": null,
      "outputs": [
        {
          "output_type": "execute_result",
          "data": {
            "text/plain": [
              "<matplotlib.axes._subplots.AxesSubplot at 0x7f2ff6048250>"
            ]
          },
          "metadata": {
            "tags": []
          },
          "execution_count": 10
        },
        {
          "output_type": "display_data",
          "data": {
            "image/png": "[encoded data removed]",
            "text/plain": [
              "<Figure size 432x288 with 1 Axes>"
            ]
          },
          "metadata": {
            "tags": [],
            "needs_background": "light"
          }
        }
      ]
    },
    {
      "cell_type": "code",
      "metadata": {
        "colab": {
          "base_uri": "https://localhost:8080/",
          "height": 299
        },
        "id": "WooDBAghH70O",
        "outputId": "0c484743-a311-4234-bb4b-894329fec12f"
      },
      "source": [
        "# plotting unique counts of \"persons\"\n",
        "sns.countplot(x=car_df[\"persons\"])"
      ],
      "execution_count": null,
      "outputs": [
        {
          "output_type": "execute_result",
          "data": {
            "text/plain": [
              "<matplotlib.axes._subplots.AxesSubplot at 0x7f2ff5fd6f50>"
            ]
          },
          "metadata": {
            "tags": []
          },
          "execution_count": 11
        },
        {
          "output_type": "display_data",
          "data": {
            "image/png": "[encoded data removed]",
            "text/plain": [
              "<Figure size 432x288 with 1 Axes>"
            ]
          },
          "metadata": {
            "tags": [],
            "needs_background": "light"
          }
        }
      ]
    },
    {
      "cell_type": "code",
      "metadata": {
        "colab": {
          "base_uri": "https://localhost:8080/",
          "height": 300
        },
        "id": "Yn6c4ts8IAh9",
        "outputId": "31b9f8d1-7e47-46d9-dca3-2753db4a99cf"
      },
      "source": [
        "# plotting unique counts of \"lug_boot\"\n",
        "sns.countplot(x=car_df[\"lug_boot\"])"
      ],
      "execution_count": null,
      "outputs": [
        {
          "output_type": "execute_result",
          "data": {
            "text/plain": [
              "<matplotlib.axes._subplots.AxesSubplot at 0x7f2ff5febcd0>"
            ]
          },
          "metadata": {
            "tags": []
          },
          "execution_count": 12
        },
        {
          "output_type": "display_data",
          "data": {
            "image/png": "[encoded data removed]",
            "text/plain": [
              "<Figure size 432x288 with 1 Axes>"
            ]
          },
          "metadata": {
            "tags": [],
            "needs_background": "light"
          }
        }
      ]
    },
    {
      "cell_type": "code",
      "metadata": {
        "colab": {
          "base_uri": "https://localhost:8080/",
          "height": 299
        },
        "id": "17M1mMVgIEst",
        "outputId": "18e5531f-f7a9-4922-c171-92d8b435f042"
      },
      "source": [
        "# plotting unique counts of \"safety\"\n",
        "sns.countplot(x=car_df[\"safety\"])"
      ],
      "execution_count": null,
      "outputs": [
        {
          "output_type": "execute_result",
          "data": {
            "text/plain": [
              "<matplotlib.axes._subplots.AxesSubplot at 0x7f2ff5f121d0>"
            ]
          },
          "metadata": {
            "tags": []
          },
          "execution_count": 13
        },
        {
          "output_type": "display_data",
          "data": {
            "image/png": "[encoded data removed]",
            "text/plain": [
              "<Figure size 432x288 with 1 Axes>"
            ]
          },
          "metadata": {
            "tags": [],
            "needs_background": "light"
          }
        }
      ]
    },
    {
      "cell_type": "code",
      "metadata": {
        "colab": {
          "base_uri": "https://localhost:8080/",
          "height": 296
        },
        "id": "4FUSxRIcIIrO",
        "outputId": "4acbc0ab-6fa8-4eca-c7d9-86ff7d8e2f8e"
      },
      "source": [
        "# plotting unique counts of \"class\"\n",
        "sns.countplot(x=car_df[\"class\"])"
      ],
      "execution_count": null,
      "outputs": [
        {
          "output_type": "execute_result",
          "data": {
            "text/plain": [
              "<matplotlib.axes._subplots.AxesSubplot at 0x7f300a4fa950>"
            ]
          },
          "metadata": {
            "tags": []
          },
          "execution_count": 14
        },
        {
          "output_type": "display_data",
          "data": {
            "image/png": "[encoded data removed]",
            "text/plain": [
              "<Figure size 432x288 with 1 Axes>"
            ]
          },
          "metadata": {
            "tags": [],
            "needs_background": "light"
          }
        }
      ]
    },
    {
      "cell_type": "code",
      "metadata": {
        "id": "R-DD0Qqr46N7"
      },
      "source": [
        "# As our target variable is categorical we need to convert them to numerical\n",
        "\n",
        "from sklearn.preprocessing import LabelEncoder\n",
        "\n",
        "le = LabelEncoder()"
      ],
      "execution_count": null,
      "outputs": []
    },
    {
      "cell_type": "code",
      "metadata": {
        "colab": {
          "base_uri": "https://localhost:8080/",
          "height": 195
        },
        "id": "ElQUDlir5_zI",
        "outputId": "11577ac4-19bd-44f3-ecd1-750fbdecf400"
      },
      "source": [
        "car_df[\"buying\"] = le.fit_transform(car_df['buying'])\n",
        "car_df.head()"
      ],
      "execution_count": null,
      "outputs": [
        {
          "output_type": "execute_result",
          "data": {
            "text/html": [
              "<div>\n",
              "<style scoped>\n",
              "    .dataframe tbody tr th:only-of-type {\n",
              "        vertical-align: middle;\n",
              "    }\n",
              "\n",
              "    .dataframe tbody tr th {\n",
              "        vertical-align: top;\n",
              "    }\n",
              "\n",
              "    .dataframe thead th {\n",
              "        text-align: right;\n",
              "    }\n",
              "</style>\n",
              "<table border=\"1\" class=\"dataframe\">\n",
              "  <thead>\n",
              "    <tr style=\"text-align: right;\">\n",
              "      <th></th>\n",
              "      <th>buying</th>\n",
              "      <th>maint</th>\n",
              "      <th>doors</th>\n",
              "      <th>persons</th>\n",
              "      <th>lug_boot</th>\n",
              "      <th>safety</th>\n",
              "      <th>class</th>\n",
              "    </tr>\n",
              "  </thead>\n",
              "  <tbody>\n",
              "    <tr>\n",
              "      <th>0</th>\n",
              "      <td>3</td>\n",
              "      <td>vhigh</td>\n",
              "      <td>2</td>\n",
              "      <td>2</td>\n",
              "      <td>small</td>\n",
              "      <td>low</td>\n",
              "      <td>unacc</td>\n",
              "    </tr>\n",
              "    <tr>\n",
              "      <th>1</th>\n",
              "      <td>3</td>\n",
              "      <td>vhigh</td>\n",
              "      <td>2</td>\n",
              "      <td>2</td>\n",
              "      <td>small</td>\n",
              "      <td>med</td>\n",
              "      <td>unacc</td>\n",
              "    </tr>\n",
              "    <tr>\n",
              "      <th>2</th>\n",
              "      <td>3</td>\n",
              "      <td>vhigh</td>\n",
              "      <td>2</td>\n",
              "      <td>2</td>\n",
              "      <td>small</td>\n",
              "      <td>high</td>\n",
              "      <td>unacc</td>\n",
              "    </tr>\n",
              "    <tr>\n",
              "      <th>3</th>\n",
              "      <td>3</td>\n",
              "      <td>vhigh</td>\n",
              "      <td>2</td>\n",
              "      <td>2</td>\n",
              "      <td>med</td>\n",
              "      <td>low</td>\n",
              "      <td>unacc</td>\n",
              "    </tr>\n",
              "    <tr>\n",
              "      <th>4</th>\n",
              "      <td>3</td>\n",
              "      <td>vhigh</td>\n",
              "      <td>2</td>\n",
              "      <td>2</td>\n",
              "      <td>med</td>\n",
              "      <td>med</td>\n",
              "      <td>unacc</td>\n",
              "    </tr>\n",
              "  </tbody>\n",
              "</table>\n",
              "</div>"
            ],
            "text/plain": [
              "   buying  maint doors persons lug_boot safety  class\n",
              "0       3  vhigh     2       2    small    low  unacc\n",
              "1       3  vhigh     2       2    small    med  unacc\n",
              "2       3  vhigh     2       2    small   high  unacc\n",
              "3       3  vhigh     2       2      med    low  unacc\n",
              "4       3  vhigh     2       2      med    med  unacc"
            ]
          },
          "metadata": {
            "tags": []
          },
          "execution_count": 17
        }
      ]
    },
    {
      "cell_type": "code",
      "metadata": {
        "id": "t-lN4s_fMq4q"
      },
      "source": [
        "# Split the variables and target variable\n",
        "# X = car_df[car_df.columns[1:]]\n",
        "X = car_df[\"class\"].values.reshape(-1, 1)\n",
        "y = car_df[\"buying\"]"
      ],
      "execution_count": null,
      "outputs": []
    },
    {
      "cell_type": "code",
      "metadata": {
        "colab": {
          "base_uri": "https://localhost:8080/",
          "height": 215
        },
        "id": "11xQ_USvMuFC",
        "outputId": "a5039943-ab20-4b02-b354-1aa63f55c637"
      },
      "source": [
        "X = pd.get_dummies(X)\n",
        "X.head()"
      ],
      "execution_count": null,
      "outputs": [
        {
          "output_type": "execute_result",
          "data": {
            "text/html": [
              "<div>\n",
              "<style scoped>\n",
              "    .dataframe tbody tr th:only-of-type {\n",
              "        vertical-align: middle;\n",
              "    }\n",
              "\n",
              "    .dataframe tbody tr th {\n",
              "        vertical-align: top;\n",
              "    }\n",
              "\n",
              "    .dataframe thead th {\n",
              "        text-align: right;\n",
              "    }\n",
              "</style>\n",
              "<table border=\"1\" class=\"dataframe\">\n",
              "  <thead>\n",
              "    <tr style=\"text-align: right;\">\n",
              "      <th></th>\n",
              "      <th>maint_high</th>\n",
              "      <th>maint_low</th>\n",
              "      <th>maint_med</th>\n",
              "      <th>maint_vhigh</th>\n",
              "      <th>doors_2</th>\n",
              "      <th>doors_3</th>\n",
              "      <th>doors_4</th>\n",
              "      <th>doors_5more</th>\n",
              "      <th>persons_2</th>\n",
              "      <th>persons_4</th>\n",
              "      <th>persons_more</th>\n",
              "      <th>lug_boot_big</th>\n",
              "      <th>lug_boot_med</th>\n",
              "      <th>lug_boot_small</th>\n",
              "      <th>safety_high</th>\n",
              "      <th>safety_low</th>\n",
              "      <th>safety_med</th>\n",
              "      <th>class_acc</th>\n",
              "      <th>class_good</th>\n",
              "      <th>class_unacc</th>\n",
              "      <th>class_vgood</th>\n",
              "    </tr>\n",
              "  </thead>\n",
              "  <tbody>\n",
              "    <tr>\n",
              "      <th>0</th>\n",
              "      <td>0</td>\n",
              "      <td>0</td>\n",
              "      <td>0</td>\n",
              "      <td>1</td>\n",
              "      <td>1</td>\n",
              "      <td>0</td>\n",
              "      <td>0</td>\n",
              "      <td>0</td>\n",
              "      <td>1</td>\n",
              "      <td>0</td>\n",
              "      <td>0</td>\n",
              "      <td>0</td>\n",
              "      <td>0</td>\n",
              "      <td>1</td>\n",
              "      <td>0</td>\n",
              "      <td>1</td>\n",
              "      <td>0</td>\n",
              "      <td>0</td>\n",
              "      <td>0</td>\n",
              "      <td>1</td>\n",
              "      <td>0</td>\n",
              "    </tr>\n",
              "    <tr>\n",
              "      <th>1</th>\n",
              "      <td>0</td>\n",
              "      <td>0</td>\n",
              "      <td>0</td>\n",
              "      <td>1</td>\n",
              "      <td>1</td>\n",
              "      <td>0</td>\n",
              "      <td>0</td>\n",
              "      <td>0</td>\n",
              "      <td>1</td>\n",
              "      <td>0</td>\n",
              "      <td>0</td>\n",
              "      <td>0</td>\n",
              "      <td>0</td>\n",
              "      <td>1</td>\n",
              "      <td>0</td>\n",
              "      <td>0</td>\n",
              "      <td>1</td>\n",
              "      <td>0</td>\n",
              "      <td>0</td>\n",
              "      <td>1</td>\n",
              "      <td>0</td>\n",
              "    </tr>\n",
              "    <tr>\n",
              "      <th>2</th>\n",
              "      <td>0</td>\n",
              "      <td>0</td>\n",
              "      <td>0</td>\n",
              "      <td>1</td>\n",
              "      <td>1</td>\n",
              "      <td>0</td>\n",
              "      <td>0</td>\n",
              "      <td>0</td>\n",
              "      <td>1</td>\n",
              "      <td>0</td>\n",
              "      <td>0</td>\n",
              "      <td>0</td>\n",
              "      <td>0</td>\n",
              "      <td>1</td>\n",
              "      <td>1</td>\n",
              "      <td>0</td>\n",
              "      <td>0</td>\n",
              "      <td>0</td>\n",
              "      <td>0</td>\n",
              "      <td>1</td>\n",
              "      <td>0</td>\n",
              "    </tr>\n",
              "    <tr>\n",
              "      <th>3</th>\n",
              "      <td>0</td>\n",
              "      <td>0</td>\n",
              "      <td>0</td>\n",
              "      <td>1</td>\n",
              "      <td>1</td>\n",
              "      <td>0</td>\n",
              "      <td>0</td>\n",
              "      <td>0</td>\n",
              "      <td>1</td>\n",
              "      <td>0</td>\n",
              "      <td>0</td>\n",
              "      <td>0</td>\n",
              "      <td>1</td>\n",
              "      <td>0</td>\n",
              "      <td>0</td>\n",
              "      <td>1</td>\n",
              "      <td>0</td>\n",
              "      <td>0</td>\n",
              "      <td>0</td>\n",
              "      <td>1</td>\n",
              "      <td>0</td>\n",
              "    </tr>\n",
              "    <tr>\n",
              "      <th>4</th>\n",
              "      <td>0</td>\n",
              "      <td>0</td>\n",
              "      <td>0</td>\n",
              "      <td>1</td>\n",
              "      <td>1</td>\n",
              "      <td>0</td>\n",
              "      <td>0</td>\n",
              "      <td>0</td>\n",
              "      <td>1</td>\n",
              "      <td>0</td>\n",
              "      <td>0</td>\n",
              "      <td>0</td>\n",
              "      <td>1</td>\n",
              "      <td>0</td>\n",
              "      <td>0</td>\n",
              "      <td>0</td>\n",
              "      <td>1</td>\n",
              "      <td>0</td>\n",
              "      <td>0</td>\n",
              "      <td>1</td>\n",
              "      <td>0</td>\n",
              "    </tr>\n",
              "  </tbody>\n",
              "</table>\n",
              "</div>"
            ],
            "text/plain": [
              "   maint_high  maint_low  maint_med  ...  class_good  class_unacc  class_vgood\n",
              "0           0          0          0  ...           0            1            0\n",
              "1           0          0          0  ...           0            1            0\n",
              "2           0          0          0  ...           0            1            0\n",
              "3           0          0          0  ...           0            1            0\n",
              "4           0          0          0  ...           0            1            0\n",
              "\n",
              "[5 rows x 21 columns]"
            ]
          },
          "metadata": {
            "tags": []
          },
          "execution_count": 98
        }
      ]
    },
    {
      "cell_type": "code",
      "metadata": {
        "id": "MPAyMjx26aCN"
      },
      "source": [
        "# As all our variables looks ordinal categories, we will use ordinal number encoding \n",
        "\n",
        "maint_dict = {\n",
        "    \"vhigh\": 3,\n",
        "    \"high\": 2,\n",
        "    \"med\": 1,\n",
        "    \"low\": 0\n",
        "}\n",
        "\n",
        "doors_dict = {\n",
        "    \"2\": 0,\n",
        "    \"3\": 1,\n",
        "    \"4\": 2,\n",
        "    \"5more\": 3\n",
        "}\n",
        "\n",
        "persons_dict = {\n",
        "    \"2\": 0,\n",
        "    \"4\": 1,\n",
        "    \"more\": 2\n",
        "}\n",
        "\n",
        "lug_boot_dict = {\n",
        "    \"small\": 0,\n",
        "    \"med\": 1,\n",
        "    \"big\": 2\n",
        "}\n",
        "\n",
        "safety_dict = {\n",
        "    \"low\": 0,\n",
        "    \"med\": 1,\n",
        "    \"high\": 2\n",
        "}\n",
        "\n",
        "class_dict = {\n",
        "    \"unacc\": 0,\n",
        "    \"acc\": 1,\n",
        "    \"good\": 2,\n",
        "    \"vgood\": 3\n",
        "}"
      ],
      "execution_count": null,
      "outputs": []
    },
    {
      "cell_type": "code",
      "metadata": {
        "colab": {
          "base_uri": "https://localhost:8080/",
          "height": 296
        },
        "id": "J6gKZ-h68WWd",
        "outputId": "99c38a63-7cc1-4857-b5e3-a225559b52d9"
      },
      "source": [
        "# Apply the above encoding dicts to the necessary columns\n",
        "mapping_dict = [maint_dict, doors_dict, persons_dict, lug_boot_dict, safety_dict, class_dict]\n",
        "for idx, col in enumerate(car_df.columns[1:]):\n",
        "  print(mapping_dict[idx])\n",
        "  car_df[col] = car_df[col].map(mapping_dict[idx])\n",
        "\n",
        "car_df.head()"
      ],
      "execution_count": null,
      "outputs": [
        {
          "output_type": "stream",
          "text": [
            "{'vhigh': 3, 'high': 2, 'med': 1, 'low': 0}\n",
            "{'2': 0, '3': 1, '4': 2, '5more': 3}\n",
            "{'2': 0, '4': 1, 'more': 2}\n",
            "{'small': 0, 'med': 1, 'big': 2}\n",
            "{'low': 0, 'med': 1, 'high': 2}\n",
            "{'unacc': 0, 'acc': 1, 'good': 2, 'vgood': 3}\n"
          ],
          "name": "stdout"
        },
        {
          "output_type": "execute_result",
          "data": {
            "text/html": [
              "<div>\n",
              "<style scoped>\n",
              "    .dataframe tbody tr th:only-of-type {\n",
              "        vertical-align: middle;\n",
              "    }\n",
              "\n",
              "    .dataframe tbody tr th {\n",
              "        vertical-align: top;\n",
              "    }\n",
              "\n",
              "    .dataframe thead th {\n",
              "        text-align: right;\n",
              "    }\n",
              "</style>\n",
              "<table border=\"1\" class=\"dataframe\">\n",
              "  <thead>\n",
              "    <tr style=\"text-align: right;\">\n",
              "      <th></th>\n",
              "      <th>buying</th>\n",
              "      <th>maint</th>\n",
              "      <th>doors</th>\n",
              "      <th>persons</th>\n",
              "      <th>lug_boot</th>\n",
              "      <th>safety</th>\n",
              "      <th>class</th>\n",
              "    </tr>\n",
              "  </thead>\n",
              "  <tbody>\n",
              "    <tr>\n",
              "      <th>0</th>\n",
              "      <td>3</td>\n",
              "      <td>3</td>\n",
              "      <td>0</td>\n",
              "      <td>0</td>\n",
              "      <td>0</td>\n",
              "      <td>0</td>\n",
              "      <td>0</td>\n",
              "    </tr>\n",
              "    <tr>\n",
              "      <th>1</th>\n",
              "      <td>3</td>\n",
              "      <td>3</td>\n",
              "      <td>0</td>\n",
              "      <td>0</td>\n",
              "      <td>0</td>\n",
              "      <td>1</td>\n",
              "      <td>0</td>\n",
              "    </tr>\n",
              "    <tr>\n",
              "      <th>2</th>\n",
              "      <td>3</td>\n",
              "      <td>3</td>\n",
              "      <td>0</td>\n",
              "      <td>0</td>\n",
              "      <td>0</td>\n",
              "      <td>2</td>\n",
              "      <td>0</td>\n",
              "    </tr>\n",
              "    <tr>\n",
              "      <th>3</th>\n",
              "      <td>3</td>\n",
              "      <td>3</td>\n",
              "      <td>0</td>\n",
              "      <td>0</td>\n",
              "      <td>1</td>\n",
              "      <td>0</td>\n",
              "      <td>0</td>\n",
              "    </tr>\n",
              "    <tr>\n",
              "      <th>4</th>\n",
              "      <td>3</td>\n",
              "      <td>3</td>\n",
              "      <td>0</td>\n",
              "      <td>0</td>\n",
              "      <td>1</td>\n",
              "      <td>1</td>\n",
              "      <td>0</td>\n",
              "    </tr>\n",
              "  </tbody>\n",
              "</table>\n",
              "</div>"
            ],
            "text/plain": [
              "   buying  maint  doors  persons  lug_boot  safety  class\n",
              "0       3      3      0        0         0       0      0\n",
              "1       3      3      0        0         0       1      0\n",
              "2       3      3      0        0         0       2      0\n",
              "3       3      3      0        0         1       0      0\n",
              "4       3      3      0        0         1       1      0"
            ]
          },
          "metadata": {
            "tags": []
          },
          "execution_count": 19
        }
      ]
    },
    {
      "cell_type": "code",
      "metadata": {
        "colab": {
          "base_uri": "https://localhost:8080/",
          "height": 559
        },
        "id": "O-kg_KV58ooP",
        "outputId": "4ad740f1-feb3-406a-fda9-377bc678e3f7"
      },
      "source": [
        "# Plot the correlation map of the variables\n",
        "fig=plt.figure(figsize=(15,9))\n",
        "sns.heatmap(car_df.corr(), annot=True)"
      ],
      "execution_count": null,
      "outputs": [
        {
          "output_type": "execute_result",
          "data": {
            "text/plain": [
              "<matplotlib.axes._subplots.AxesSubplot at 0x7f2fec844fd0>"
            ]
          },
          "metadata": {
            "tags": []
          },
          "execution_count": 22
        },
        {
          "output_type": "display_data",
          "data": {
            "image/png": "[encoded data removed]",
            "text/plain": [
              "<Figure size 1080x648 with 2 Axes>"
            ]
          },
          "metadata": {
            "tags": [],
            "needs_background": "light"
          }
        }
      ]
    },
    {
      "cell_type": "markdown",
      "metadata": {
        "id": "BhEASyjL8xI_"
      },
      "source": [
        "If we look closely the correlation map then we can find out that the target value which is being asked for \"buying\" has no relation with other variables apart from the variable \"class\".\n",
        "\n",
        "And according to the original dataset page [Car Evaluation](https://archive.ics.uci.edu/ml/datasets/Car+Evaluation), the target variable is \"class\" not \"buying\" and if we check the correlation map of target \"class\" with other variables then we can find some correlation among them unlike withe the target variable \"buying\".\n",
        "\n",
        "So here I am purposing 3 types of solution.\n",
        "\n",
        "1. Take the target variable as \"buying\" as it is asked.\n",
        "2. Try with the original target variable \"class\" which is asked in the original dataset page\n",
        "3. As with \"buying\" only \"class\" has relation, try to model with only that variable. "
      ]
    },
    {
      "cell_type": "markdown",
      "metadata": {
        "id": "PWg5iYuZ98ll"
      },
      "source": [
        "## Target Variable: Buying"
      ]
    },
    {
      "cell_type": "code",
      "metadata": {
        "id": "NDOA_GZM-Bpt"
      },
      "source": [
        "# Split the variables and target variable\n",
        "X = car_df[car_df.columns[1:]]\n",
        "y = car_df[\"buying\"]"
      ],
      "execution_count": null,
      "outputs": []
    },
    {
      "cell_type": "code",
      "metadata": {
        "id": "yApSovGJ-GLN"
      },
      "source": [
        "# Split the X and y to train and test set\n",
        "\n",
        "from sklearn.model_selection import train_test_split\n",
        "\n",
        "X_train, X_test, y_train, y_test = train_test_split(X, y, test_size=0.25, random_state=42)"
      ],
      "execution_count": null,
      "outputs": []
    },
    {
      "cell_type": "code",
      "metadata": {
        "colab": {
          "base_uri": "https://localhost:8080/"
        },
        "id": "55o16Nlf-MhM",
        "outputId": "bb3fb993-08b4-4b41-e22c-d8b79f9f340d"
      },
      "source": [
        "print(f\"Shape of X_train: {X_train.shape} and y_train: {y_train.shape}\")\n",
        "print(f\"Shape of X_test: {X_test.shape} and y_test: {y_test.shape}\")"
      ],
      "execution_count": null,
      "outputs": [
        {
          "output_type": "stream",
          "text": [
            "Shape of X_train: (1296, 6) and y_train: (1296,)\n",
            "Shape of X_test: (432, 6) and y_test: (432,)\n"
          ],
          "name": "stdout"
        }
      ]
    },
    {
      "cell_type": "code",
      "metadata": {
        "id": "nps1QISv-P5O"
      },
      "source": [
        "from sklearn.linear_model import LogisticRegression\n",
        "from sklearn.neighbors import KNeighborsClassifier\n",
        "from sklearn.ensemble import RandomForestClassifier\n",
        "\n",
        "from sklearn.model_selection import cross_val_score, learning_curve, validation_curve\n",
        "from sklearn.metrics import classification_report, confusion_matrix, accuracy_score\n",
        "\n",
        "from sklearn.model_selection import GridSearchCV"
      ],
      "execution_count": null,
      "outputs": []
    },
    {
      "cell_type": "markdown",
      "metadata": {
        "id": "Czx8Dc6j-Uf9"
      },
      "source": [
        "## KNN Classifier (Target: Buying)"
      ]
    },
    {
      "cell_type": "code",
      "metadata": {
        "id": "T8Tf96vU-Uf-"
      },
      "source": [
        "knn = KNeighborsClassifier(n_jobs=-1)"
      ],
      "execution_count": null,
      "outputs": []
    },
    {
      "cell_type": "code",
      "metadata": {
        "colab": {
          "base_uri": "https://localhost:8080/"
        },
        "id": "Bz3gJ1KF-Uf-",
        "outputId": "19d85163-8b10-4531-9190-35a81bc8cff4"
      },
      "source": [
        "knn.fit(X_train, y_train)\n",
        "\n",
        "pred = knn.predict(X_test)\n",
        "print(f\"Accuracy of knn classifier is: {knn.score(X_test, y_test)}\")"
      ],
      "execution_count": null,
      "outputs": [
        {
          "output_type": "stream",
          "text": [
            "Accuracy of knn classifier is: 0.16435185185185186\n"
          ],
          "name": "stdout"
        }
      ]
    },
    {
      "cell_type": "code",
      "metadata": {
        "colab": {
          "base_uri": "https://localhost:8080/"
        },
        "id": "_jwkJPef-jU9",
        "outputId": "06ad6e46-0bf0-427a-e123-21be99889712"
      },
      "source": [
        "print(classification_report(y_test,pred))"
      ],
      "execution_count": null,
      "outputs": [
        {
          "output_type": "stream",
          "text": [
            "              precision    recall  f1-score   support\n",
            "\n",
            "           0       0.14      0.17      0.16       120\n",
            "           1       0.19      0.23      0.21       103\n",
            "           2       0.08      0.08      0.08       100\n",
            "           3       0.30      0.17      0.21       109\n",
            "\n",
            "    accuracy                           0.16       432\n",
            "   macro avg       0.18      0.16      0.17       432\n",
            "weighted avg       0.18      0.16      0.17       432\n",
            "\n"
          ],
          "name": "stdout"
        }
      ]
    },
    {
      "cell_type": "markdown",
      "metadata": {
        "id": "1aoZr8FF-mYs"
      },
      "source": [
        "So with KNN, we can only be able to achieve an accuracy of 0.16 whereas the F1 score stands at 0.17."
      ]
    },
    {
      "cell_type": "code",
      "metadata": {
        "id": "874lKdVB-01c"
      },
      "source": [
        "# Trying KNN with different number of neightbours\n",
        "\n",
        "avg_score=[]\n",
        "for k in range(2,20):\n",
        "    knn=KNeighborsClassifier(n_jobs=-1,n_neighbors=k)\n",
        "    score=cross_val_score(knn,X_train,y_train,cv=5,n_jobs=-1,scoring='accuracy')\n",
        "    avg_score.append(score.mean())"
      ],
      "execution_count": null,
      "outputs": []
    },
    {
      "cell_type": "code",
      "metadata": {
        "colab": {
          "base_uri": "https://localhost:8080/",
          "height": 352
        },
        "id": "j9nOvkbC-_Tc",
        "outputId": "bd586452-3d12-4293-fdf6-b9e5205537a6"
      },
      "source": [
        "plt.figure(figsize=(10,5))\n",
        "plt.plot(range(2,20, 1),avg_score)\n",
        "plt.xlabel(\"n_neighbours\")\n",
        "plt.ylabel(\"accuracy\")"
      ],
      "execution_count": null,
      "outputs": [
        {
          "output_type": "execute_result",
          "data": {
            "text/plain": [
              "Text(0, 0.5, 'accuracy')"
            ]
          },
          "metadata": {
            "tags": []
          },
          "execution_count": 36
        },
        {
          "output_type": "display_data",
          "data": {
            "image/png": "[encoded data removed]",
            "text/plain": [
              "<Figure size 720x360 with 1 Axes>"
            ]
          },
          "metadata": {
            "tags": []
          }
        }
      ]
    },
    {
      "cell_type": "markdown",
      "metadata": {
        "id": "iImMRMc__RFd"
      },
      "source": [
        "**Conclusion:** From the above plot we can find out that even with neighbours=18, we can only reach 0.26 accuracy."
      ]
    },
    {
      "cell_type": "markdown",
      "metadata": {
        "id": "l5ITNLA3AJa0"
      },
      "source": [
        "## Logistic Regression"
      ]
    },
    {
      "cell_type": "code",
      "metadata": {
        "id": "iwJ5yztxA9ki"
      },
      "source": [
        "logclf=LogisticRegression()"
      ],
      "execution_count": null,
      "outputs": []
    },
    {
      "cell_type": "code",
      "metadata": {
        "colab": {
          "base_uri": "https://localhost:8080/"
        },
        "id": "aDTZqo5SBFFa",
        "outputId": "bc8d40e2-e290-4d3c-99d6-881c7d354701"
      },
      "source": [
        "logclf.fit(X_train,y_train)"
      ],
      "execution_count": null,
      "outputs": [
        {
          "output_type": "execute_result",
          "data": {
            "text/plain": [
              "LogisticRegression(C=1.0, class_weight=None, dual=False, fit_intercept=True,\n",
              "                   intercept_scaling=1, l1_ratio=None, max_iter=100,\n",
              "                   multi_class='auto', n_jobs=None, penalty='l2',\n",
              "                   random_state=None, solver='lbfgs', tol=0.0001, verbose=0,\n",
              "                   warm_start=False)"
            ]
          },
          "metadata": {
            "tags": []
          },
          "execution_count": 38
        }
      ]
    },
    {
      "cell_type": "code",
      "metadata": {
        "id": "RHded6epBH9i"
      },
      "source": [
        "pred=logclf.predict(X_test)"
      ],
      "execution_count": null,
      "outputs": []
    },
    {
      "cell_type": "code",
      "metadata": {
        "colab": {
          "base_uri": "https://localhost:8080/"
        },
        "id": "xBvP0lGJBKw6",
        "outputId": "dbbcb294-37e4-4bca-d721-9fed504b1d32"
      },
      "source": [
        "logclf.score(X_test,y_test)"
      ],
      "execution_count": null,
      "outputs": [
        {
          "output_type": "execute_result",
          "data": {
            "text/plain": [
              "0.3148148148148148"
            ]
          },
          "metadata": {
            "tags": []
          },
          "execution_count": 40
        }
      ]
    },
    {
      "cell_type": "markdown",
      "metadata": {
        "id": "GJ2OH7gJBM3z"
      },
      "source": [
        "With Basic default configs of Logistic Regression, we are able to get 0.31 accuracy."
      ]
    },
    {
      "cell_type": "code",
      "metadata": {
        "colab": {
          "base_uri": "https://localhost:8080/",
          "height": 530
        },
        "id": "dPn7xH3ABbhS",
        "outputId": "167474bf-190e-4ff0-dbdd-be049b86854f"
      },
      "source": [
        "lc=learning_curve(logclf,X_train,y_train,cv=10,n_jobs=-1)\n",
        "size=lc[0]\n",
        "train_score=[lc[1][i].mean() for i in range (0,5)]\n",
        "test_score=[lc[2][i].mean() for i in range (0,5)]\n",
        "fig=plt.figure(figsize=(12,8))\n",
        "plt.title(\"Learning curve using Logistic Regression\")\n",
        "plt.xlabel(\"Number of samples\")\n",
        "plt.ylabel(\"Accuracy\")\n",
        "plt.plot(size,train_score, label=\"Training\")\n",
        "plt.legend(loc='best')\n",
        "plt.plot(size,test_score, label=\"Testing\")\n",
        "plt.legend(loc='best')"
      ],
      "execution_count": null,
      "outputs": [
        {
          "output_type": "execute_result",
          "data": {
            "text/plain": [
              "<matplotlib.legend.Legend at 0x7f2fe79a6690>"
            ]
          },
          "metadata": {
            "tags": []
          },
          "execution_count": 46
        },
        {
          "output_type": "display_data",
          "data": {
            "image/png": "[encoded data removed]",
            "text/plain": [
              "<Figure size 864x576 with 1 Axes>"
            ]
          },
          "metadata": {
            "tags": []
          }
        }
      ]
    },
    {
      "cell_type": "code",
      "metadata": {
        "id": "quRi1jGzCcFC"
      },
      "source": [
        "# Using Grid Search for hyperparameter Optimization\n",
        "param_grid={'C':[0.01,0.1,1,10],\n",
        "           'solver':['newton-cg', 'lbfgs', 'sag'],\n",
        "           'multi_class':['multinomial']}\n",
        "grid=GridSearchCV(estimator=LogisticRegression(n_jobs=-1),param_grid=param_grid,cv=5,n_jobs=-1)"
      ],
      "execution_count": null,
      "outputs": []
    },
    {
      "cell_type": "code",
      "metadata": {
        "colab": {
          "base_uri": "https://localhost:8080/"
        },
        "id": "Mqo2ykziCh2x",
        "outputId": "458b58f9-801b-4d43-da42-18eb0afb5b23"
      },
      "source": [
        "grid.fit(X_train,y_train)"
      ],
      "execution_count": null,
      "outputs": [
        {
          "output_type": "execute_result",
          "data": {
            "text/plain": [
              "GridSearchCV(cv=5, error_score=nan,\n",
              "             estimator=LogisticRegression(C=1.0, class_weight=None, dual=False,\n",
              "                                          fit_intercept=True,\n",
              "                                          intercept_scaling=1, l1_ratio=None,\n",
              "                                          max_iter=100, multi_class='auto',\n",
              "                                          n_jobs=-1, penalty='l2',\n",
              "                                          random_state=None, solver='lbfgs',\n",
              "                                          tol=0.0001, verbose=0,\n",
              "                                          warm_start=False),\n",
              "             iid='deprecated', n_jobs=-1,\n",
              "             param_grid={'C': [0.01, 0.1, 1, 10],\n",
              "                         'multi_class': ['multinomial'],\n",
              "                         'solver': ['newton-cg', 'lbfgs', 'sag']},\n",
              "             pre_dispatch='2*n_jobs', refit=True, return_train_score=False,\n",
              "             scoring=None, verbose=0)"
            ]
          },
          "metadata": {
            "tags": []
          },
          "execution_count": 48
        }
      ]
    },
    {
      "cell_type": "code",
      "metadata": {
        "colab": {
          "base_uri": "https://localhost:8080/"
        },
        "id": "nDxK1nC6CmaJ",
        "outputId": "0daf5fab-3428-4b90-e795-bb3f40a2cd7b"
      },
      "source": [
        "# Printing the best configs from the grid search\n",
        "print(grid.best_params_)\n",
        "print(grid.best_score_)"
      ],
      "execution_count": null,
      "outputs": [
        {
          "output_type": "stream",
          "text": [
            "{'C': 1, 'multi_class': 'multinomial', 'solver': 'newton-cg'}\n",
            "0.32716958716958716\n"
          ],
          "name": "stdout"
        }
      ]
    },
    {
      "cell_type": "markdown",
      "metadata": {
        "id": "UHLB8O2aCtl6"
      },
      "source": [
        "**Conclusion:** Even with the best configuration for the Logistic Regression our accuracy touches only 0.32"
      ]
    },
    {
      "cell_type": "markdown",
      "metadata": {
        "id": "ZkwOoLGYC5yB"
      },
      "source": [
        "## Random Forest"
      ]
    },
    {
      "cell_type": "code",
      "metadata": {
        "id": "Juuugj4cDcd4"
      },
      "source": [
        "from sklearn.metrics import f1_score"
      ],
      "execution_count": null,
      "outputs": []
    },
    {
      "cell_type": "code",
      "metadata": {
        "id": "X2czCdABC9zR"
      },
      "source": [
        "rf_clf=RandomForestClassifier(n_jobs=-1,random_state=51)"
      ],
      "execution_count": null,
      "outputs": []
    },
    {
      "cell_type": "code",
      "metadata": {
        "colab": {
          "base_uri": "https://localhost:8080/"
        },
        "id": "LNh66voEDBiZ",
        "outputId": "ce9f3c7a-e11d-4efa-f67e-9468e42980b1"
      },
      "source": [
        "rf_clf.fit(X_train,y_train)\n",
        "print(f\"Accuracy using Random Forest: {rf_clf.score(X_test,y_test)}\")\n",
        "print(f\"F1 Score using Random Forest: {f1_score(y_test,rf_clf.predict(X_test),average='macro')}\")"
      ],
      "execution_count": null,
      "outputs": [
        {
          "output_type": "stream",
          "text": [
            "Accuracy using Random Forest: 0.0763888888888889\n",
            "F1 Score using Random Forest: 0.0767738923988924\n"
          ],
          "name": "stdout"
        }
      ]
    },
    {
      "cell_type": "markdown",
      "metadata": {
        "id": "M6qc7TRdDjd4"
      },
      "source": [
        "With Random Forest Classifier, we get only 0.07 accuracy which is really bad."
      ]
    },
    {
      "cell_type": "code",
      "metadata": {
        "id": "kGJZamqODssR"
      },
      "source": [
        "# Using Grid Search for hyper parameter optimizatio\n",
        "param_grid={'criterion':['gini','entropy'],\n",
        "           'max_depth':[2,5,10,20],\n",
        "           'max_features':[2,4,6,'auto'],\n",
        "           'max_leaf_nodes':[2,3,None],}\n",
        "\n",
        "\n",
        "grid=GridSearchCV(estimator=RandomForestClassifier(n_estimators=50,n_jobs=-1,random_state=51),\n",
        "                  param_grid=param_grid,cv=10,n_jobs=-1)"
      ],
      "execution_count": null,
      "outputs": []
    },
    {
      "cell_type": "code",
      "metadata": {
        "colab": {
          "base_uri": "https://localhost:8080/"
        },
        "id": "Oz6evQ_UD-fw",
        "outputId": "2ecb9cd1-a8eb-4e58-da8d-c75264f98fc7"
      },
      "source": [
        "grid.fit(X_train,y_train)"
      ],
      "execution_count": null,
      "outputs": [
        {
          "output_type": "execute_result",
          "data": {
            "text/plain": [
              "GridSearchCV(cv=10, error_score=nan,\n",
              "             estimator=RandomForestClassifier(bootstrap=True, ccp_alpha=0.0,\n",
              "                                              class_weight=None,\n",
              "                                              criterion='gini', max_depth=None,\n",
              "                                              max_features='auto',\n",
              "                                              max_leaf_nodes=None,\n",
              "                                              max_samples=None,\n",
              "                                              min_impurity_decrease=0.0,\n",
              "                                              min_impurity_split=None,\n",
              "                                              min_samples_leaf=1,\n",
              "                                              min_samples_split=2,\n",
              "                                              min_weight_fraction_leaf=0.0,\n",
              "                                              n_estimators=50, n_jobs=-1,\n",
              "                                              oob_score=False, random_state=51,\n",
              "                                              verbose=0, warm_start=False),\n",
              "             iid='deprecated', n_jobs=-1,\n",
              "             param_grid={'criterion': ['gini', 'entropy'],\n",
              "                         'max_depth': [2, 5, 10, 20],\n",
              "                         'max_features': [2, 4, 6, 'auto'],\n",
              "                         'max_leaf_nodes': [2, 3, None]},\n",
              "             pre_dispatch='2*n_jobs', refit=True, return_train_score=False,\n",
              "             scoring=None, verbose=0)"
            ]
          },
          "metadata": {
            "tags": []
          },
          "execution_count": 56
        }
      ]
    },
    {
      "cell_type": "code",
      "metadata": {
        "colab": {
          "base_uri": "https://localhost:8080/"
        },
        "id": "2_yTxcu5EAxg",
        "outputId": "b01533cc-3ed0-4478-99dd-236d41daefeb"
      },
      "source": [
        "\n",
        "print(f\"Random forest optimized configs for the parameters: {grid.best_params_}\")\n",
        "print(f\"Best accuracy we got using best configs for Random forest: {grid.best_score_}\")"
      ],
      "execution_count": null,
      "outputs": [
        {
          "output_type": "stream",
          "text": [
            "Random forest optimized configs for the parameters: {'criterion': 'gini', 'max_depth': 2, 'max_features': 4, 'max_leaf_nodes': None}\n",
            "Best accuracy we got using best configs for Random forest: 0.32178890876565297\n"
          ],
          "name": "stdout"
        }
      ]
    },
    {
      "cell_type": "code",
      "metadata": {
        "colab": {
          "base_uri": "https://localhost:8080/",
          "height": 530
        },
        "id": "10GeLIGeEchn",
        "outputId": "3a293eaf-6511-459b-a3ce-9c6a8ef24e83"
      },
      "source": [
        "lc=learning_curve(RandomForestClassifier(n_estimators=50,criterion='gini',max_features=4,max_depth=2,random_state=42,\n",
        "                                             max_leaf_nodes=None,n_jobs=-1,),X_train,y_train,cv=5,n_jobs=-1)\n",
        "size=lc[0]\n",
        "train_score=[lc[1][i].mean() for i in range (0,5)]\n",
        "test_score=[lc[2][i].mean() for i in range (0,5)]\n",
        "fig=plt.figure(figsize=(12,8))\n",
        "plt.title(\"Learning curve using Logistic Regression\")\n",
        "plt.xlabel(\"Number of samples\")\n",
        "plt.ylabel(\"Accuracy\")\n",
        "plt.plot(size,train_score, label=\"Training\")\n",
        "plt.legend(loc='best')\n",
        "plt.plot(size,test_score, label=\"Testing\")\n",
        "plt.legend(loc='best')"
      ],
      "execution_count": null,
      "outputs": [
        {
          "output_type": "execute_result",
          "data": {
            "text/plain": [
              "<matplotlib.legend.Legend at 0x7f2fe72c6990>"
            ]
          },
          "metadata": {
            "tags": []
          },
          "execution_count": 59
        },
        {
          "output_type": "display_data",
          "data": {
            "image/png": "[encoded data removed]",
            "text/plain": [
              "<Figure size 864x576 with 1 Axes>"
            ]
          },
          "metadata": {
            "tags": []
          }
        }
      ]
    },
    {
      "cell_type": "code",
      "metadata": {
        "colab": {
          "base_uri": "https://localhost:8080/",
          "height": 225
        },
        "id": "6kl40w75E1Df",
        "outputId": "2e3efc36-2508-45a2-b41f-df80ad37d84d"
      },
      "source": [
        "feature_imp = pd.DataFrame(list(zip(X.columns, rf_clf.feature_importances_)), columns=[\"Feature\", \"Imp_score\"])\n",
        "feature_imp"
      ],
      "execution_count": null,
      "outputs": [
        {
          "output_type": "execute_result",
          "data": {
            "text/html": [
              "<div>\n",
              "<style scoped>\n",
              "    .dataframe tbody tr th:only-of-type {\n",
              "        vertical-align: middle;\n",
              "    }\n",
              "\n",
              "    .dataframe tbody tr th {\n",
              "        vertical-align: top;\n",
              "    }\n",
              "\n",
              "    .dataframe thead th {\n",
              "        text-align: right;\n",
              "    }\n",
              "</style>\n",
              "<table border=\"1\" class=\"dataframe\">\n",
              "  <thead>\n",
              "    <tr style=\"text-align: right;\">\n",
              "      <th></th>\n",
              "      <th>Feature</th>\n",
              "      <th>Imp_score</th>\n",
              "    </tr>\n",
              "  </thead>\n",
              "  <tbody>\n",
              "    <tr>\n",
              "      <th>0</th>\n",
              "      <td>maint</td>\n",
              "      <td>0.236767</td>\n",
              "    </tr>\n",
              "    <tr>\n",
              "      <th>1</th>\n",
              "      <td>doors</td>\n",
              "      <td>0.203785</td>\n",
              "    </tr>\n",
              "    <tr>\n",
              "      <th>2</th>\n",
              "      <td>persons</td>\n",
              "      <td>0.141757</td>\n",
              "    </tr>\n",
              "    <tr>\n",
              "      <th>3</th>\n",
              "      <td>lug_boot</td>\n",
              "      <td>0.154189</td>\n",
              "    </tr>\n",
              "    <tr>\n",
              "      <th>4</th>\n",
              "      <td>safety</td>\n",
              "      <td>0.129136</td>\n",
              "    </tr>\n",
              "    <tr>\n",
              "      <th>5</th>\n",
              "      <td>class</td>\n",
              "      <td>0.134367</td>\n",
              "    </tr>\n",
              "  </tbody>\n",
              "</table>\n",
              "</div>"
            ],
            "text/plain": [
              "    Feature  Imp_score\n",
              "0     maint   0.236767\n",
              "1     doors   0.203785\n",
              "2   persons   0.141757\n",
              "3  lug_boot   0.154189\n",
              "4    safety   0.129136\n",
              "5     class   0.134367"
            ]
          },
          "metadata": {
            "tags": []
          },
          "execution_count": 61
        }
      ]
    },
    {
      "cell_type": "code",
      "metadata": {
        "id": "QxEubZ29FgOP"
      },
      "source": [
        "# As safety is the least important feature we can drop that and train RF again\n",
        "X_train_new, X_test_new, y_train_new, y_test_new = train_test_split(X[['maint', 'persons', 'lug_boot', 'safety', 'class']],\n",
        "    y, test_size=0.25, random_state=42)"
      ],
      "execution_count": null,
      "outputs": []
    },
    {
      "cell_type": "code",
      "metadata": {
        "colab": {
          "base_uri": "https://localhost:8080/"
        },
        "id": "Hgnmm-1ZF8mX",
        "outputId": "b3ad157c-272d-4eea-e31b-13adabc3b113"
      },
      "source": [
        "\n",
        "rf_clf_new=RandomForestClassifier(n_estimators=50,criterion='gini',max_features=4,max_depth=2,random_state=51,\n",
        "    max_leaf_nodes=None,n_jobs=-1)\n",
        "rf_clf_new.fit(X_train_new,y_train_new)\n",
        "rf_clf_new.score(X_test_new,y_test_new)"
      ],
      "execution_count": null,
      "outputs": [
        {
          "output_type": "execute_result",
          "data": {
            "text/plain": [
              "0.32407407407407407"
            ]
          },
          "metadata": {
            "tags": []
          },
          "execution_count": 65
        }
      ]
    },
    {
      "cell_type": "markdown",
      "metadata": {
        "id": "_kVv6gEeGRWX"
      },
      "source": [
        "**Conclusion** With feature importance and best Random forest configs we get the accuracy of 32.40"
      ]
    },
    {
      "cell_type": "markdown",
      "metadata": {
        "id": "G9PWYFmpGgjG"
      },
      "source": [
        "## Neural Network"
      ]
    },
    {
      "cell_type": "code",
      "metadata": {
        "id": "m_gtZUUkGjwv"
      },
      "source": [
        "import tensorflow as tf\n"
      ],
      "execution_count": null,
      "outputs": []
    },
    {
      "cell_type": "code",
      "metadata": {
        "id": "ZS87GPCvGjwx"
      },
      "source": [
        "model = tf.keras.Sequential([\n",
        "  tf.keras.layers.Dense(128, activation='relu'),\n",
        "  tf.keras.layers.Dense(64, activation='relu'),\n",
        "  tf.keras.layers.Dense(4)\n",
        "])"
      ],
      "execution_count": null,
      "outputs": []
    },
    {
      "cell_type": "code",
      "metadata": {
        "id": "GWLfO4XnGjwx"
      },
      "source": [
        "model.compile(optimizer='adam',\n",
        "                loss=tf.keras.losses.SparseCategoricalCrossentropy(from_logits=True),\n",
        "                metrics=['accuracy'])"
      ],
      "execution_count": null,
      "outputs": []
    },
    {
      "cell_type": "code",
      "metadata": {
        "colab": {
          "base_uri": "https://localhost:8080/"
        },
        "id": "l_V5_3iHGjwx",
        "outputId": "d20e0595-5f2f-4ea5-acc3-011c4e3b6277"
      },
      "source": [
        "history = model.fit(X_train, y_train, validation_split=0.2, epochs=50)"
      ],
      "execution_count": null,
      "outputs": [
        {
          "output_type": "stream",
          "text": [
            "Epoch 1/50\n",
            "33/33 [==============================] - 1s 8ms/step - loss: 1.4183 - accuracy: 0.2536 - val_loss: 1.3887 - val_accuracy: 0.2577\n",
            "Epoch 2/50\n",
            "33/33 [==============================] - 0s 3ms/step - loss: 1.3703 - accuracy: 0.3037 - val_loss: 1.3650 - val_accuracy: 0.2654\n",
            "Epoch 3/50\n",
            "33/33 [==============================] - 0s 3ms/step - loss: 1.3399 - accuracy: 0.3320 - val_loss: 1.3390 - val_accuracy: 0.2615\n",
            "Epoch 4/50\n",
            "33/33 [==============================] - 0s 3ms/step - loss: 1.3314 - accuracy: 0.3164 - val_loss: 1.3225 - val_accuracy: 0.2846\n",
            "Epoch 5/50\n",
            "33/33 [==============================] - 0s 3ms/step - loss: 1.3100 - accuracy: 0.3716 - val_loss: 1.3276 - val_accuracy: 0.3077\n",
            "Epoch 6/50\n",
            "33/33 [==============================] - 0s 3ms/step - loss: 1.3093 - accuracy: 0.3369 - val_loss: 1.2950 - val_accuracy: 0.3346\n",
            "Epoch 7/50\n",
            "33/33 [==============================] - 0s 3ms/step - loss: 1.2768 - accuracy: 0.3581 - val_loss: 1.2881 - val_accuracy: 0.3231\n",
            "Epoch 8/50\n",
            "33/33 [==============================] - 0s 3ms/step - loss: 1.2627 - accuracy: 0.3570 - val_loss: 1.2917 - val_accuracy: 0.3192\n",
            "Epoch 9/50\n",
            "33/33 [==============================] - 0s 3ms/step - loss: 1.2525 - accuracy: 0.3982 - val_loss: 1.2841 - val_accuracy: 0.3308\n",
            "Epoch 10/50\n",
            "33/33 [==============================] - 0s 3ms/step - loss: 1.2466 - accuracy: 0.3786 - val_loss: 1.2728 - val_accuracy: 0.3423\n",
            "Epoch 11/50\n",
            "33/33 [==============================] - 0s 3ms/step - loss: 1.2456 - accuracy: 0.4002 - val_loss: 1.2700 - val_accuracy: 0.3308\n",
            "Epoch 12/50\n",
            "33/33 [==============================] - 0s 3ms/step - loss: 1.2522 - accuracy: 0.3707 - val_loss: 1.2717 - val_accuracy: 0.3038\n",
            "Epoch 13/50\n",
            "33/33 [==============================] - 0s 3ms/step - loss: 1.2362 - accuracy: 0.3795 - val_loss: 1.2673 - val_accuracy: 0.3077\n",
            "Epoch 14/50\n",
            "33/33 [==============================] - 0s 3ms/step - loss: 1.2352 - accuracy: 0.3913 - val_loss: 1.2611 - val_accuracy: 0.2962\n",
            "Epoch 15/50\n",
            "33/33 [==============================] - 0s 3ms/step - loss: 1.2309 - accuracy: 0.3850 - val_loss: 1.2629 - val_accuracy: 0.3192\n",
            "Epoch 16/50\n",
            "33/33 [==============================] - 0s 3ms/step - loss: 1.2157 - accuracy: 0.3717 - val_loss: 1.2584 - val_accuracy: 0.3000\n",
            "Epoch 17/50\n",
            "33/33 [==============================] - 0s 3ms/step - loss: 1.2065 - accuracy: 0.4240 - val_loss: 1.2682 - val_accuracy: 0.2846\n",
            "Epoch 18/50\n",
            "33/33 [==============================] - 0s 3ms/step - loss: 1.2167 - accuracy: 0.3778 - val_loss: 1.2641 - val_accuracy: 0.3038\n",
            "Epoch 19/50\n",
            "33/33 [==============================] - 0s 3ms/step - loss: 1.2160 - accuracy: 0.3861 - val_loss: 1.2538 - val_accuracy: 0.3000\n",
            "Epoch 20/50\n",
            "33/33 [==============================] - 0s 3ms/step - loss: 1.1962 - accuracy: 0.3813 - val_loss: 1.2587 - val_accuracy: 0.3115\n",
            "Epoch 21/50\n",
            "33/33 [==============================] - 0s 3ms/step - loss: 1.2068 - accuracy: 0.3862 - val_loss: 1.2610 - val_accuracy: 0.3000\n",
            "Epoch 22/50\n",
            "33/33 [==============================] - 0s 3ms/step - loss: 1.1971 - accuracy: 0.4009 - val_loss: 1.2673 - val_accuracy: 0.3000\n",
            "Epoch 23/50\n",
            "33/33 [==============================] - 0s 3ms/step - loss: 1.2087 - accuracy: 0.3754 - val_loss: 1.2686 - val_accuracy: 0.3077\n",
            "Epoch 24/50\n",
            "33/33 [==============================] - 0s 4ms/step - loss: 1.2140 - accuracy: 0.3898 - val_loss: 1.2642 - val_accuracy: 0.3000\n",
            "Epoch 25/50\n",
            "33/33 [==============================] - 0s 3ms/step - loss: 1.1901 - accuracy: 0.4162 - val_loss: 1.2566 - val_accuracy: 0.3000\n",
            "Epoch 26/50\n",
            "33/33 [==============================] - 0s 3ms/step - loss: 1.2074 - accuracy: 0.3851 - val_loss: 1.2545 - val_accuracy: 0.2962\n",
            "Epoch 27/50\n",
            "33/33 [==============================] - 0s 3ms/step - loss: 1.1890 - accuracy: 0.4207 - val_loss: 1.2599 - val_accuracy: 0.3115\n",
            "Epoch 28/50\n",
            "33/33 [==============================] - 0s 3ms/step - loss: 1.1903 - accuracy: 0.4102 - val_loss: 1.2581 - val_accuracy: 0.2923\n",
            "Epoch 29/50\n",
            "33/33 [==============================] - 0s 3ms/step - loss: 1.1666 - accuracy: 0.4140 - val_loss: 1.2594 - val_accuracy: 0.2769\n",
            "Epoch 30/50\n",
            "33/33 [==============================] - 0s 3ms/step - loss: 1.1818 - accuracy: 0.3803 - val_loss: 1.2627 - val_accuracy: 0.2846\n",
            "Epoch 31/50\n",
            "33/33 [==============================] - 0s 3ms/step - loss: 1.1611 - accuracy: 0.4097 - val_loss: 1.2698 - val_accuracy: 0.2962\n",
            "Epoch 32/50\n",
            "33/33 [==============================] - 0s 3ms/step - loss: 1.2009 - accuracy: 0.3737 - val_loss: 1.2606 - val_accuracy: 0.2769\n",
            "Epoch 33/50\n",
            "33/33 [==============================] - 0s 3ms/step - loss: 1.1762 - accuracy: 0.3999 - val_loss: 1.2676 - val_accuracy: 0.2885\n",
            "Epoch 34/50\n",
            "33/33 [==============================] - 0s 3ms/step - loss: 1.1748 - accuracy: 0.4065 - val_loss: 1.2795 - val_accuracy: 0.2846\n",
            "Epoch 35/50\n",
            "33/33 [==============================] - 0s 3ms/step - loss: 1.2001 - accuracy: 0.3845 - val_loss: 1.2688 - val_accuracy: 0.2731\n",
            "Epoch 36/50\n",
            "33/33 [==============================] - 0s 3ms/step - loss: 1.1557 - accuracy: 0.4329 - val_loss: 1.2709 - val_accuracy: 0.2962\n",
            "Epoch 37/50\n",
            "33/33 [==============================] - 0s 3ms/step - loss: 1.1711 - accuracy: 0.4176 - val_loss: 1.2738 - val_accuracy: 0.2769\n",
            "Epoch 38/50\n",
            "33/33 [==============================] - 0s 3ms/step - loss: 1.1799 - accuracy: 0.4049 - val_loss: 1.2699 - val_accuracy: 0.2962\n",
            "Epoch 39/50\n",
            "33/33 [==============================] - 0s 3ms/step - loss: 1.1547 - accuracy: 0.4105 - val_loss: 1.2856 - val_accuracy: 0.2846\n",
            "Epoch 40/50\n",
            "33/33 [==============================] - 0s 3ms/step - loss: 1.1776 - accuracy: 0.4000 - val_loss: 1.2753 - val_accuracy: 0.2846\n",
            "Epoch 41/50\n",
            "33/33 [==============================] - 0s 3ms/step - loss: 1.1647 - accuracy: 0.4206 - val_loss: 1.2907 - val_accuracy: 0.2962\n",
            "Epoch 42/50\n",
            "33/33 [==============================] - 0s 3ms/step - loss: 1.1560 - accuracy: 0.4156 - val_loss: 1.2704 - val_accuracy: 0.2885\n",
            "Epoch 43/50\n",
            "33/33 [==============================] - 0s 3ms/step - loss: 1.1691 - accuracy: 0.4099 - val_loss: 1.2859 - val_accuracy: 0.2846\n",
            "Epoch 44/50\n",
            "33/33 [==============================] - 0s 3ms/step - loss: 1.1604 - accuracy: 0.3982 - val_loss: 1.2833 - val_accuracy: 0.2731\n",
            "Epoch 45/50\n",
            "33/33 [==============================] - 0s 3ms/step - loss: 1.1601 - accuracy: 0.4140 - val_loss: 1.2845 - val_accuracy: 0.2692\n",
            "Epoch 46/50\n",
            "33/33 [==============================] - 0s 3ms/step - loss: 1.1482 - accuracy: 0.4122 - val_loss: 1.2921 - val_accuracy: 0.2808\n",
            "Epoch 47/50\n",
            "33/33 [==============================] - 0s 3ms/step - loss: 1.1469 - accuracy: 0.4357 - val_loss: 1.2900 - val_accuracy: 0.2654\n",
            "Epoch 48/50\n",
            "33/33 [==============================] - 0s 3ms/step - loss: 1.1645 - accuracy: 0.4077 - val_loss: 1.2856 - val_accuracy: 0.2769\n",
            "Epoch 49/50\n",
            "33/33 [==============================] - 0s 3ms/step - loss: 1.1546 - accuracy: 0.4091 - val_loss: 1.2840 - val_accuracy: 0.2692\n",
            "Epoch 50/50\n",
            "33/33 [==============================] - 0s 3ms/step - loss: 1.1488 - accuracy: 0.4068 - val_loss: 1.2916 - val_accuracy: 0.2769\n"
          ],
          "name": "stdout"
        }
      ]
    },
    {
      "cell_type": "code",
      "metadata": {
        "id": "oNe3UngGG1E2"
      },
      "source": [
        "def plot_loss(history):\n",
        "  plt.plot(history.history['accuracy'], label='Accuracy')\n",
        "  plt.plot(history.history['val_accuracy'], label='val_accuracy')\n",
        "  plt.xlabel('Epoch')\n",
        "  plt.ylabel('Accuracy')\n",
        "  plt.legend()\n",
        "  plt.grid(True)"
      ],
      "execution_count": null,
      "outputs": []
    },
    {
      "cell_type": "code",
      "metadata": {
        "colab": {
          "base_uri": "https://localhost:8080/",
          "height": 279
        },
        "id": "HFi-E6TVHH79",
        "outputId": "79370e30-bcba-40c7-e630-36b99e74c562"
      },
      "source": [
        "plot_loss(history)"
      ],
      "execution_count": null,
      "outputs": [
        {
          "output_type": "display_data",
          "data": {
            "image/png": "[encoded data removed]",
            "text/plain": [
              "<Figure size 432x288 with 1 Axes>"
            ]
          },
          "metadata": {
            "tags": []
          }
        }
      ]
    },
    {
      "cell_type": "markdown",
      "metadata": {
        "id": "srlKXSAVHTeT"
      },
      "source": [
        "With Neural Network too the maximum accuracy on train set is 0.40 while on validation it was 0.27, and by looking at the graph it is clear that the dataset is overiftting."
      ]
    },
    {
      "cell_type": "markdown",
      "metadata": {
        "id": "basiun-EHfxd"
      },
      "source": [
        "**Final Conclusion** We tried simpler models to complex models and by far we have the best accuracy 0.32 without overfitting. So we will use that for our prediction."
      ]
    },
    {
      "cell_type": "code",
      "metadata": {
        "colab": {
          "base_uri": "https://localhost:8080/",
          "height": 77
        },
        "id": "8rh4PHF7HviV",
        "outputId": "16d24c45-5d23-4874-aae4-526602e6120d"
      },
      "source": [
        "# Prediction\n",
        "input = [{\n",
        "    \"maint\": \"high\",\n",
        "    \"doors\": \"4\",\n",
        "    \"persons\": \"2\",\n",
        "    \"lug_boot\": \"big\" ,\n",
        "    \"safety\": \"high\",\n",
        "    \"class\": \"good\"\n",
        "}]\n",
        "prediction_ex = pd.DataFrame(input)\n",
        "\n",
        "for idx, col in enumerate(prediction_ex.columns):\n",
        "  prediction_ex[col] = prediction_ex[col].map(mapping_dict[idx])\n",
        "\n",
        "prediction_ex.head()"
      ],
      "execution_count": null,
      "outputs": [
        {
          "output_type": "execute_result",
          "data": {
            "text/html": [
              "<div>\n",
              "<style scoped>\n",
              "    .dataframe tbody tr th:only-of-type {\n",
              "        vertical-align: middle;\n",
              "    }\n",
              "\n",
              "    .dataframe tbody tr th {\n",
              "        vertical-align: top;\n",
              "    }\n",
              "\n",
              "    .dataframe thead th {\n",
              "        text-align: right;\n",
              "    }\n",
              "</style>\n",
              "<table border=\"1\" class=\"dataframe\">\n",
              "  <thead>\n",
              "    <tr style=\"text-align: right;\">\n",
              "      <th></th>\n",
              "      <th>maint</th>\n",
              "      <th>doors</th>\n",
              "      <th>persons</th>\n",
              "      <th>lug_boot</th>\n",
              "      <th>safety</th>\n",
              "      <th>class</th>\n",
              "    </tr>\n",
              "  </thead>\n",
              "  <tbody>\n",
              "    <tr>\n",
              "      <th>0</th>\n",
              "      <td>2</td>\n",
              "      <td>2</td>\n",
              "      <td>0</td>\n",
              "      <td>2</td>\n",
              "      <td>2</td>\n",
              "      <td>2</td>\n",
              "    </tr>\n",
              "  </tbody>\n",
              "</table>\n",
              "</div>"
            ],
            "text/plain": [
              "   maint  doors  persons  lug_boot  safety  class\n",
              "0      2      2        0         2       2      2"
            ]
          },
          "metadata": {
            "tags": []
          },
          "execution_count": 78
        }
      ]
    },
    {
      "cell_type": "code",
      "metadata": {
        "colab": {
          "base_uri": "https://localhost:8080/"
        },
        "id": "m5lQ5WezJENk",
        "outputId": "9d442da2-c00a-4c8f-dc81-37641e48594f"
      },
      "source": [
        "print(f\"Buying price for the input values is: {le.inverse_transform(rf_clf.predict(prediction_ex))}\")"
      ],
      "execution_count": null,
      "outputs": [
        {
          "output_type": "stream",
          "text": [
            "Buying price for the input values is: ['low']\n"
          ],
          "name": "stdout"
        }
      ]
    },
    {
      "cell_type": "markdown",
      "metadata": {
        "id": "-eLyw7JsKhmK"
      },
      "source": [
        "## Using Target Variable \"class\" as mention in [Car Evaluation](https://archive.ics.uci.edu/ml/datasets/Car+Evaluation)"
      ]
    },
    {
      "cell_type": "code",
      "metadata": {
        "id": "qHVFKuzq-Bcr"
      },
      "source": [
        "# Split the variables and target variable\n",
        "X = car_df[car_df.columns[:-1]]\n",
        "y = car_df[\"class\"]"
      ],
      "execution_count": null,
      "outputs": []
    },
    {
      "cell_type": "code",
      "metadata": {
        "id": "IscBJtcmK4t-"
      },
      "source": [
        "# Split the X and y to train and test set\n",
        "\n",
        "from sklearn.model_selection import train_test_split\n",
        "\n",
        "X_train, X_test, y_train, y_test = train_test_split(X, y, test_size=0.25, random_state=42)"
      ],
      "execution_count": null,
      "outputs": []
    },
    {
      "cell_type": "code",
      "metadata": {
        "colab": {
          "base_uri": "https://localhost:8080/"
        },
        "id": "Znu_fe-PK4t-",
        "outputId": "c9c5641c-1471-417a-9913-3a406c974816"
      },
      "source": [
        "print(f\"Shape of X_train: {X_train.shape} and y_train: {y_train.shape}\")\n",
        "print(f\"Shape of X_test: {X_test.shape} and y_test: {y_test.shape}\")"
      ],
      "execution_count": null,
      "outputs": [
        {
          "output_type": "stream",
          "text": [
            "Shape of X_train: (1296, 6) and y_train: (1296,)\n",
            "Shape of X_test: (432, 6) and y_test: (432,)\n"
          ],
          "name": "stdout"
        }
      ]
    },
    {
      "cell_type": "markdown",
      "metadata": {
        "id": "rgvkLvbHK4t_"
      },
      "source": [
        "## KNN Classifier (Target: \"Class\")"
      ]
    },
    {
      "cell_type": "code",
      "metadata": {
        "id": "oJVp57P5K4t_"
      },
      "source": [
        "knn = KNeighborsClassifier(n_jobs=-1)"
      ],
      "execution_count": null,
      "outputs": []
    },
    {
      "cell_type": "code",
      "metadata": {
        "colab": {
          "base_uri": "https://localhost:8080/"
        },
        "id": "aCHTra_yK4t_",
        "outputId": "485b56f2-7269-4b6c-d167-c2d19d4f6f5b"
      },
      "source": [
        "knn.fit(X_train, y_train)\n",
        "\n",
        "pred = knn.predict(X_test)\n",
        "print(f\"Accuracy of knn classifier is: {knn.score(X_test, y_test)}\")"
      ],
      "execution_count": null,
      "outputs": [
        {
          "output_type": "stream",
          "text": [
            "Accuracy of knn classifier is: 0.8773148148148148\n"
          ],
          "name": "stdout"
        }
      ]
    },
    {
      "cell_type": "code",
      "metadata": {
        "colab": {
          "base_uri": "https://localhost:8080/"
        },
        "id": "LJZWFPTiK4uA",
        "outputId": "fccd1ce1-b0b2-40a4-b349-664a026e4b09"
      },
      "source": [
        "print(classification_report(y_test,pred))"
      ],
      "execution_count": null,
      "outputs": [
        {
          "output_type": "stream",
          "text": [
            "              precision    recall  f1-score   support\n",
            "\n",
            "           0       0.90      0.99      0.94       294\n",
            "           1       0.84      0.69      0.76       103\n",
            "           2       0.46      0.40      0.43        15\n",
            "           3       0.92      0.55      0.69        20\n",
            "\n",
            "    accuracy                           0.88       432\n",
            "   macro avg       0.78      0.66      0.70       432\n",
            "weighted avg       0.87      0.88      0.87       432\n",
            "\n"
          ],
          "name": "stdout"
        }
      ]
    },
    {
      "cell_type": "markdown",
      "metadata": {
        "id": "63A5kSMMK4uA"
      },
      "source": [
        "So with KNN, we can able to achieve an accuracy of 0.87 whereas the F1 score stands at 0.70."
      ]
    },
    {
      "cell_type": "code",
      "metadata": {
        "id": "-LZvPmObK4uA"
      },
      "source": [
        "# Trying KNN with different number of neightbours\n",
        "\n",
        "avg_score=[]\n",
        "for k in range(2,20):\n",
        "    knn=KNeighborsClassifier(n_jobs=-1,n_neighbors=k)\n",
        "    score=cross_val_score(knn,X_train,y_train,cv=5,n_jobs=-1,scoring='accuracy')\n",
        "    avg_score.append(score.mean())"
      ],
      "execution_count": null,
      "outputs": []
    },
    {
      "cell_type": "code",
      "metadata": {
        "colab": {
          "base_uri": "https://localhost:8080/",
          "height": 352
        },
        "id": "5PUWe0YmK4uA",
        "outputId": "5b448dbe-6c86-461f-e2ca-f8594f1dd9c7"
      },
      "source": [
        "plt.figure(figsize=(10,5))\n",
        "plt.plot(range(2,20, 1),avg_score)\n",
        "plt.xlabel(\"n_neighbours\")\n",
        "plt.ylabel(\"accuracy\")"
      ],
      "execution_count": null,
      "outputs": [
        {
          "output_type": "execute_result",
          "data": {
            "text/plain": [
              "Text(0, 0.5, 'accuracy')"
            ]
          },
          "metadata": {
            "tags": []
          },
          "execution_count": 89
        },
        {
          "output_type": "display_data",
          "data": {
            "image/png": "[encoded data removed]",
            "text/plain": [
              "<Figure size 720x360 with 1 Axes>"
            ]
          },
          "metadata": {
            "tags": []
          }
        }
      ]
    },
    {
      "cell_type": "markdown",
      "metadata": {
        "id": "AX3gB0xSK4uA"
      },
      "source": [
        "**KNN Conclusion:** From the above plot we can find out that even with neighbours=5, we can only reach 0.90 accuracy."
      ]
    },
    {
      "cell_type": "markdown",
      "metadata": {
        "id": "RlR7nFuXK4uB"
      },
      "source": [
        "## Logistic Regression"
      ]
    },
    {
      "cell_type": "code",
      "metadata": {
        "id": "ysP-g3_eK4uB"
      },
      "source": [
        "logclf=LogisticRegression()"
      ],
      "execution_count": null,
      "outputs": []
    },
    {
      "cell_type": "code",
      "metadata": {
        "colab": {
          "base_uri": "https://localhost:8080/"
        },
        "id": "s8HsvQjsK4uB",
        "outputId": "bf7faf73-aa7b-40b3-ed57-80d92a4792ca"
      },
      "source": [
        "logclf.fit(X_train,y_train)"
      ],
      "execution_count": null,
      "outputs": [
        {
          "output_type": "execute_result",
          "data": {
            "text/plain": [
              "LogisticRegression(C=1.0, class_weight=None, dual=False, fit_intercept=True,\n",
              "                   intercept_scaling=1, l1_ratio=None, max_iter=100,\n",
              "                   multi_class='auto', n_jobs=None, penalty='l2',\n",
              "                   random_state=None, solver='lbfgs', tol=0.0001, verbose=0,\n",
              "                   warm_start=False)"
            ]
          },
          "metadata": {
            "tags": []
          },
          "execution_count": 91
        }
      ]
    },
    {
      "cell_type": "code",
      "metadata": {
        "id": "98Eyn8WkK4uB"
      },
      "source": [
        "pred=logclf.predict(X_test)"
      ],
      "execution_count": null,
      "outputs": []
    },
    {
      "cell_type": "code",
      "metadata": {
        "colab": {
          "base_uri": "https://localhost:8080/"
        },
        "id": "SzsQXK3LK4uB",
        "outputId": "df32a057-3b10-44be-9357-bff706ca821c"
      },
      "source": [
        "print(f\"Accuracy using Logistic Regression: {logclf.score(X_test,y_test)}\")"
      ],
      "execution_count": null,
      "outputs": [
        {
          "output_type": "stream",
          "text": [
            "Accuracy using Logistic Regression: 0.7361111111111112\n"
          ],
          "name": "stdout"
        }
      ]
    },
    {
      "cell_type": "markdown",
      "metadata": {
        "id": "_DBgzIEHK4uC"
      },
      "source": [
        "With Basic default configs of Logistic Regression, we are able to get 0.73 accuracy."
      ]
    },
    {
      "cell_type": "code",
      "metadata": {
        "colab": {
          "base_uri": "https://localhost:8080/",
          "height": 530
        },
        "id": "vAmdHqrbK4uC",
        "outputId": "23db813e-9839-457d-e26f-263547c71a90"
      },
      "source": [
        "lc=learning_curve(logclf,X_train,y_train,cv=10,n_jobs=-1)\n",
        "size=lc[0]\n",
        "train_score=[lc[1][i].mean() for i in range (0,5)]\n",
        "test_score=[lc[2][i].mean() for i in range (0,5)]\n",
        "fig=plt.figure(figsize=(12,8))\n",
        "plt.title(\"Learning curve using Logistic Regression\")\n",
        "plt.xlabel(\"Number of samples\")\n",
        "plt.ylabel(\"Accuracy\")\n",
        "plt.plot(size,train_score, label=\"Training\")\n",
        "plt.legend(loc='best')\n",
        "plt.plot(size,test_score, label=\"Testing\")\n",
        "plt.legend(loc='best')"
      ],
      "execution_count": null,
      "outputs": [
        {
          "output_type": "execute_result",
          "data": {
            "text/plain": [
              "<matplotlib.legend.Legend at 0x7f2faa656b90>"
            ]
          },
          "metadata": {
            "tags": []
          },
          "execution_count": 95
        },
        {
          "output_type": "display_data",
          "data": {
            "image/png": "[encoded data removed]",
            "text/plain": [
              "<Figure size 864x576 with 1 Axes>"
            ]
          },
          "metadata": {
            "tags": []
          }
        }
      ]
    },
    {
      "cell_type": "code",
      "metadata": {
        "id": "HmdkyjqUK4uC"
      },
      "source": [
        "# Using Grid Search for hyperparameter Optimization\n",
        "param_grid={'C':[0.01,0.1,1,10],\n",
        "           'solver':['newton-cg', 'lbfgs', 'sag'],\n",
        "           'multi_class':['multinomial']}\n",
        "grid=GridSearchCV(estimator=LogisticRegression(n_jobs=-1),param_grid=param_grid,cv=5,n_jobs=-1)"
      ],
      "execution_count": null,
      "outputs": []
    },
    {
      "cell_type": "code",
      "metadata": {
        "colab": {
          "base_uri": "https://localhost:8080/"
        },
        "id": "8xsrqjkBK4uC",
        "outputId": "bdda3589-8ca3-4d86-f933-d982a6e90dbd"
      },
      "source": [
        "grid.fit(X_train,y_train)"
      ],
      "execution_count": null,
      "outputs": [
        {
          "output_type": "stream",
          "text": [
            "/usr/local/lib/python3.7/dist-packages/sklearn/linear_model/_sag.py:330: ConvergenceWarning: The max_iter was reached which means the coef_ did not converge\n",
            "  \"the coef_ did not converge\", ConvergenceWarning)\n"
          ],
          "name": "stderr"
        },
        {
          "output_type": "execute_result",
          "data": {
            "text/plain": [
              "GridSearchCV(cv=5, error_score=nan,\n",
              "             estimator=LogisticRegression(C=1.0, class_weight=None, dual=False,\n",
              "                                          fit_intercept=True,\n",
              "                                          intercept_scaling=1, l1_ratio=None,\n",
              "                                          max_iter=100, multi_class='auto',\n",
              "                                          n_jobs=-1, penalty='l2',\n",
              "                                          random_state=None, solver='lbfgs',\n",
              "                                          tol=0.0001, verbose=0,\n",
              "                                          warm_start=False),\n",
              "             iid='deprecated', n_jobs=-1,\n",
              "             param_grid={'C': [0.01, 0.1, 1, 10],\n",
              "                         'multi_class': ['multinomial'],\n",
              "                         'solver': ['newton-cg', 'lbfgs', 'sag']},\n",
              "             pre_dispatch='2*n_jobs', refit=True, return_train_score=False,\n",
              "             scoring=None, verbose=0)"
            ]
          },
          "metadata": {
            "tags": []
          },
          "execution_count": 97
        }
      ]
    },
    {
      "cell_type": "code",
      "metadata": {
        "colab": {
          "base_uri": "https://localhost:8080/"
        },
        "id": "TSw_0lBsK4uC",
        "outputId": "063ee8f5-c843-446d-b4e8-79105fa4301e"
      },
      "source": [
        "# Printing the best configs from the grid search\n",
        "print(grid.best_params_)\n",
        "print(grid.best_score_)"
      ],
      "execution_count": null,
      "outputs": [
        {
          "output_type": "stream",
          "text": [
            "{'C': 10, 'multi_class': 'multinomial', 'solver': 'sag'}\n",
            "0.7916602316602317\n"
          ],
          "name": "stdout"
        }
      ]
    },
    {
      "cell_type": "markdown",
      "metadata": {
        "id": "MRQ693A6K4uC"
      },
      "source": [
        "**LR Conclusion:** With the best configuration for the Logistic Regression our accuracy touches only 0.79"
      ]
    },
    {
      "cell_type": "markdown",
      "metadata": {
        "id": "vkpyLB8jK4uD"
      },
      "source": [
        "## Random Forest"
      ]
    },
    {
      "cell_type": "code",
      "metadata": {
        "id": "8u0w7ZJhK4uD"
      },
      "source": [
        "from sklearn.metrics import f1_score"
      ],
      "execution_count": null,
      "outputs": []
    },
    {
      "cell_type": "code",
      "metadata": {
        "id": "cs0KmzVwK4uD"
      },
      "source": [
        "rf_clf=RandomForestClassifier(n_jobs=-1,random_state=51)"
      ],
      "execution_count": null,
      "outputs": []
    },
    {
      "cell_type": "code",
      "metadata": {
        "colab": {
          "base_uri": "https://localhost:8080/"
        },
        "id": "NvX-yCKQK4uD",
        "outputId": "ca80c515-da60-45ca-d1d7-7ef0435a56c2"
      },
      "source": [
        "rf_clf.fit(X_train,y_train)\n",
        "print(f\"Accuracy using Random Forest: {rf_clf.score(X_test,y_test)}\")\n",
        "print(f\"F1 Score using Random Forest: {f1_score(y_test,rf_clf.predict(X_test),average='macro')}\")"
      ],
      "execution_count": null,
      "outputs": [
        {
          "output_type": "stream",
          "text": [
            "Accuracy using Random Forest: 0.9652777777777778\n",
            "F1 Score using Random Forest: 0.8906834185029674\n"
          ],
          "name": "stdout"
        }
      ]
    },
    {
      "cell_type": "markdown",
      "metadata": {
        "id": "hdrYupr-K4uD"
      },
      "source": [
        "With Random Forest Classifier, we get only 0.96 accuracy and F1 0.89 which is very good compare to having target as \"buying\"."
      ]
    },
    {
      "cell_type": "code",
      "metadata": {
        "id": "06g_aGB5K4uD"
      },
      "source": [
        "# Using Grid Search for hyper parameter optimizatio\n",
        "param_grid={'criterion':['gini','entropy'],\n",
        "           'max_depth':[2,5,10,20],\n",
        "           'max_features':[2,4,6,'auto'],\n",
        "           'max_leaf_nodes':[2,3,None],}\n",
        "\n",
        "\n",
        "grid=GridSearchCV(estimator=RandomForestClassifier(n_estimators=50,n_jobs=-1,random_state=51),\n",
        "                  param_grid=param_grid,cv=10,n_jobs=-1)"
      ],
      "execution_count": null,
      "outputs": []
    },
    {
      "cell_type": "code",
      "metadata": {
        "colab": {
          "base_uri": "https://localhost:8080/"
        },
        "id": "W4jr4ZO5K4uE",
        "outputId": "bd41bb5d-4a7b-4613-f066-b187cf8cdd11"
      },
      "source": [
        "grid.fit(X_train,y_train)"
      ],
      "execution_count": null,
      "outputs": [
        {
          "output_type": "execute_result",
          "data": {
            "text/plain": [
              "GridSearchCV(cv=10, error_score=nan,\n",
              "             estimator=RandomForestClassifier(bootstrap=True, ccp_alpha=0.0,\n",
              "                                              class_weight=None,\n",
              "                                              criterion='gini', max_depth=None,\n",
              "                                              max_features='auto',\n",
              "                                              max_leaf_nodes=None,\n",
              "                                              max_samples=None,\n",
              "                                              min_impurity_decrease=0.0,\n",
              "                                              min_impurity_split=None,\n",
              "                                              min_samples_leaf=1,\n",
              "                                              min_samples_split=2,\n",
              "                                              min_weight_fraction_leaf=0.0,\n",
              "                                              n_estimators=50, n_jobs=-1,\n",
              "                                              oob_score=False, random_state=51,\n",
              "                                              verbose=0, warm_start=False),\n",
              "             iid='deprecated', n_jobs=-1,\n",
              "             param_grid={'criterion': ['gini', 'entropy'],\n",
              "                         'max_depth': [2, 5, 10, 20],\n",
              "                         'max_features': [2, 4, 6, 'auto'],\n",
              "                         'max_leaf_nodes': [2, 3, None]},\n",
              "             pre_dispatch='2*n_jobs', refit=True, return_train_score=False,\n",
              "             scoring=None, verbose=0)"
            ]
          },
          "metadata": {
            "tags": []
          },
          "execution_count": 103
        }
      ]
    },
    {
      "cell_type": "code",
      "metadata": {
        "colab": {
          "base_uri": "https://localhost:8080/"
        },
        "id": "iJEtgGaiK4uE",
        "outputId": "fc5aaabf-fc8c-4b2d-eb7f-8ccfcef5ae0e"
      },
      "source": [
        "print(f\"Random forest optimized configs for the parameters: {grid.best_params_}\")\n",
        "print(f\"Best accuracy we got using best configs for Random forest: {grid.best_score_}\")"
      ],
      "execution_count": null,
      "outputs": [
        {
          "output_type": "stream",
          "text": [
            "Random forest optimized configs for the parameters: {'criterion': 'entropy', 'max_depth': 20, 'max_features': 4, 'max_leaf_nodes': None}\n",
            "Best accuracy we got using best configs for Random forest: 0.9745557543231962\n"
          ],
          "name": "stdout"
        }
      ]
    },
    {
      "cell_type": "code",
      "metadata": {
        "colab": {
          "base_uri": "https://localhost:8080/",
          "height": 530
        },
        "id": "4pQrfHGoK4uE",
        "outputId": "170b8928-8829-4b87-f57e-c73ecf53c323"
      },
      "source": [
        "lc=learning_curve(RandomForestClassifier(n_estimators=50,criterion='entropy',max_features=4,max_depth=20,random_state=42,\n",
        "                                             max_leaf_nodes=None,n_jobs=-1,),X_train,y_train,cv=5,n_jobs=-1)\n",
        "size=lc[0]\n",
        "train_score=[lc[1][i].mean() for i in range (0,5)]\n",
        "test_score=[lc[2][i].mean() for i in range (0,5)]\n",
        "fig=plt.figure(figsize=(12,8))\n",
        "plt.title(\"Learning curve using Random Forest\")\n",
        "plt.xlabel(\"Number of samples\")\n",
        "plt.ylabel(\"Accuracy\")\n",
        "plt.plot(size,train_score, label=\"Training\")\n",
        "plt.legend(loc='best')\n",
        "plt.plot(size,test_score, label=\"Testing\")\n",
        "plt.legend(loc='best')"
      ],
      "execution_count": null,
      "outputs": [
        {
          "output_type": "execute_result",
          "data": {
            "text/plain": [
              "<matplotlib.legend.Legend at 0x7f2faa5f7f50>"
            ]
          },
          "metadata": {
            "tags": []
          },
          "execution_count": 105
        },
        {
          "output_type": "display_data",
          "data": {
            "image/png": "[encoded data removed]",
            "text/plain": [
              "<Figure size 864x576 with 1 Axes>"
            ]
          },
          "metadata": {
            "tags": []
          }
        }
      ]
    },
    {
      "cell_type": "code",
      "metadata": {
        "colab": {
          "base_uri": "https://localhost:8080/",
          "height": 225
        },
        "id": "UqLpPiHIK4uE",
        "outputId": "23376878-05f5-4191-ff3a-407f472cd980"
      },
      "source": [
        "feature_imp = pd.DataFrame(list(zip(X.columns, rf_clf.feature_importances_)), columns=[\"Feature\", \"Imp_score\"])\n",
        "feature_imp"
      ],
      "execution_count": null,
      "outputs": [
        {
          "output_type": "execute_result",
          "data": {
            "text/html": [
              "<div>\n",
              "<style scoped>\n",
              "    .dataframe tbody tr th:only-of-type {\n",
              "        vertical-align: middle;\n",
              "    }\n",
              "\n",
              "    .dataframe tbody tr th {\n",
              "        vertical-align: top;\n",
              "    }\n",
              "\n",
              "    .dataframe thead th {\n",
              "        text-align: right;\n",
              "    }\n",
              "</style>\n",
              "<table border=\"1\" class=\"dataframe\">\n",
              "  <thead>\n",
              "    <tr style=\"text-align: right;\">\n",
              "      <th></th>\n",
              "      <th>Feature</th>\n",
              "      <th>Imp_score</th>\n",
              "    </tr>\n",
              "  </thead>\n",
              "  <tbody>\n",
              "    <tr>\n",
              "      <th>0</th>\n",
              "      <td>buying</td>\n",
              "      <td>0.187434</td>\n",
              "    </tr>\n",
              "    <tr>\n",
              "      <th>1</th>\n",
              "      <td>maint</td>\n",
              "      <td>0.140415</td>\n",
              "    </tr>\n",
              "    <tr>\n",
              "      <th>2</th>\n",
              "      <td>doors</td>\n",
              "      <td>0.067534</td>\n",
              "    </tr>\n",
              "    <tr>\n",
              "      <th>3</th>\n",
              "      <td>persons</td>\n",
              "      <td>0.239066</td>\n",
              "    </tr>\n",
              "    <tr>\n",
              "      <th>4</th>\n",
              "      <td>lug_boot</td>\n",
              "      <td>0.090542</td>\n",
              "    </tr>\n",
              "    <tr>\n",
              "      <th>5</th>\n",
              "      <td>safety</td>\n",
              "      <td>0.275010</td>\n",
              "    </tr>\n",
              "  </tbody>\n",
              "</table>\n",
              "</div>"
            ],
            "text/plain": [
              "    Feature  Imp_score\n",
              "0    buying   0.187434\n",
              "1     maint   0.140415\n",
              "2     doors   0.067534\n",
              "3   persons   0.239066\n",
              "4  lug_boot   0.090542\n",
              "5    safety   0.275010"
            ]
          },
          "metadata": {
            "tags": []
          },
          "execution_count": 106
        }
      ]
    },
    {
      "cell_type": "code",
      "metadata": {
        "id": "ZgUCvkfzK4uE"
      },
      "source": [
        "# As doors is the least important feature we can drop that and train RF again\n",
        "X_train_new, X_test_new, y_train_new, y_test_new = train_test_split(X[['buying', 'maint', 'persons', 'lug_boot', 'safety']],\n",
        "    y, test_size=0.25, random_state=42)"
      ],
      "execution_count": null,
      "outputs": []
    },
    {
      "cell_type": "code",
      "metadata": {
        "colab": {
          "base_uri": "https://localhost:8080/"
        },
        "id": "g4k1LlYUK4uE",
        "outputId": "18e30722-8884-4f25-92f8-466d963a9297"
      },
      "source": [
        "\n",
        "rf_clf_new=RandomForestClassifier(n_estimators=50,criterion='entropy',max_features=4,max_depth=20,random_state=42,\n",
        "    max_leaf_nodes=None,n_jobs=-1)\n",
        "rf_clf_new.fit(X_train_new,y_train_new)\n",
        "rf_clf_new.score(X_test_new,y_test_new)"
      ],
      "execution_count": null,
      "outputs": [
        {
          "output_type": "execute_result",
          "data": {
            "text/plain": [
              "0.9282407407407407"
            ]
          },
          "metadata": {
            "tags": []
          },
          "execution_count": 110
        }
      ]
    },
    {
      "cell_type": "markdown",
      "metadata": {
        "id": "95bQIKWBK4uF"
      },
      "source": [
        "**RF Conclusion** With feature importance and best Random forest configs we get the accuracy of 0.92, But earlier without feature importance we were able to achieve 0.97 with the best configs for Random Forest"
      ]
    },
    {
      "cell_type": "markdown",
      "metadata": {
        "id": "Ggk5DszDK4uF"
      },
      "source": [
        "## Neural Network"
      ]
    },
    {
      "cell_type": "code",
      "metadata": {
        "id": "P6z8_otxK4uF"
      },
      "source": [
        "model = tf.keras.Sequential([\n",
        "  tf.keras.layers.Dense(128, activation='relu'),\n",
        "  tf.keras.layers.Dense(64, activation='relu'),\n",
        "  tf.keras.layers.Dense(4)\n",
        "])"
      ],
      "execution_count": null,
      "outputs": []
    },
    {
      "cell_type": "code",
      "metadata": {
        "id": "x6Pvxc1zK4uF"
      },
      "source": [
        "model.compile(optimizer='adam',\n",
        "                loss=tf.keras.losses.SparseCategoricalCrossentropy(from_logits=True),\n",
        "                metrics=['accuracy'])"
      ],
      "execution_count": null,
      "outputs": []
    },
    {
      "cell_type": "code",
      "metadata": {
        "colab": {
          "base_uri": "https://localhost:8080/"
        },
        "id": "oKDwB6ZiK4uG",
        "outputId": "148cb8d4-a0cb-422c-e7a2-1d7b277817c2"
      },
      "source": [
        "history = model.fit(X_train, y_train, validation_split=0.2, epochs=50)"
      ],
      "execution_count": null,
      "outputs": [
        {
          "output_type": "stream",
          "text": [
            "Epoch 1/50\n",
            "33/33 [==============================] - 1s 7ms/step - loss: 1.0139 - accuracy: 0.5657 - val_loss: 0.8544 - val_accuracy: 0.6462\n",
            "Epoch 2/50\n",
            "33/33 [==============================] - 0s 2ms/step - loss: 0.6823 - accuracy: 0.7336 - val_loss: 0.6726 - val_accuracy: 0.7462\n",
            "Epoch 3/50\n",
            "33/33 [==============================] - 0s 3ms/step - loss: 0.5498 - accuracy: 0.7859 - val_loss: 0.5885 - val_accuracy: 0.7615\n",
            "Epoch 4/50\n",
            "33/33 [==============================] - 0s 3ms/step - loss: 0.4299 - accuracy: 0.8302 - val_loss: 0.5253 - val_accuracy: 0.7808\n",
            "Epoch 5/50\n",
            "33/33 [==============================] - 0s 3ms/step - loss: 0.4105 - accuracy: 0.8206 - val_loss: 0.4961 - val_accuracy: 0.7731\n",
            "Epoch 6/50\n",
            "33/33 [==============================] - 0s 3ms/step - loss: 0.3909 - accuracy: 0.8327 - val_loss: 0.4444 - val_accuracy: 0.7923\n",
            "Epoch 7/50\n",
            "33/33 [==============================] - 0s 3ms/step - loss: 0.3545 - accuracy: 0.8448 - val_loss: 0.4229 - val_accuracy: 0.7885\n",
            "Epoch 8/50\n",
            "33/33 [==============================] - 0s 3ms/step - loss: 0.3349 - accuracy: 0.8365 - val_loss: 0.4176 - val_accuracy: 0.8077\n",
            "Epoch 9/50\n",
            "33/33 [==============================] - 0s 3ms/step - loss: 0.2973 - accuracy: 0.8656 - val_loss: 0.3732 - val_accuracy: 0.8308\n",
            "Epoch 10/50\n",
            "33/33 [==============================] - 0s 3ms/step - loss: 0.2762 - accuracy: 0.8814 - val_loss: 0.3578 - val_accuracy: 0.8308\n",
            "Epoch 11/50\n",
            "33/33 [==============================] - 0s 3ms/step - loss: 0.2859 - accuracy: 0.8805 - val_loss: 0.3474 - val_accuracy: 0.8538\n",
            "Epoch 12/50\n",
            "33/33 [==============================] - 0s 3ms/step - loss: 0.2391 - accuracy: 0.9037 - val_loss: 0.3250 - val_accuracy: 0.8500\n",
            "Epoch 13/50\n",
            "33/33 [==============================] - 0s 3ms/step - loss: 0.2425 - accuracy: 0.9007 - val_loss: 0.3089 - val_accuracy: 0.8462\n",
            "Epoch 14/50\n",
            "33/33 [==============================] - 0s 3ms/step - loss: 0.2038 - accuracy: 0.9243 - val_loss: 0.3151 - val_accuracy: 0.8462\n",
            "Epoch 15/50\n",
            "33/33 [==============================] - 0s 3ms/step - loss: 0.2058 - accuracy: 0.9156 - val_loss: 0.2979 - val_accuracy: 0.8462\n",
            "Epoch 16/50\n",
            "33/33 [==============================] - 0s 3ms/step - loss: 0.1996 - accuracy: 0.9244 - val_loss: 0.2981 - val_accuracy: 0.8692\n",
            "Epoch 17/50\n",
            "33/33 [==============================] - 0s 3ms/step - loss: 0.1895 - accuracy: 0.9234 - val_loss: 0.2975 - val_accuracy: 0.8731\n",
            "Epoch 18/50\n",
            "33/33 [==============================] - 0s 3ms/step - loss: 0.2017 - accuracy: 0.9179 - val_loss: 0.3015 - val_accuracy: 0.8577\n",
            "Epoch 19/50\n",
            "33/33 [==============================] - 0s 3ms/step - loss: 0.1669 - accuracy: 0.9252 - val_loss: 0.2760 - val_accuracy: 0.8769\n",
            "Epoch 20/50\n",
            "33/33 [==============================] - 0s 3ms/step - loss: 0.1727 - accuracy: 0.9322 - val_loss: 0.2661 - val_accuracy: 0.8846\n",
            "Epoch 21/50\n",
            "33/33 [==============================] - 0s 3ms/step - loss: 0.1808 - accuracy: 0.9309 - val_loss: 0.2592 - val_accuracy: 0.8808\n",
            "Epoch 22/50\n",
            "33/33 [==============================] - 0s 3ms/step - loss: 0.1446 - accuracy: 0.9542 - val_loss: 0.2588 - val_accuracy: 0.8692\n",
            "Epoch 23/50\n",
            "33/33 [==============================] - 0s 3ms/step - loss: 0.1457 - accuracy: 0.9436 - val_loss: 0.2593 - val_accuracy: 0.8808\n",
            "Epoch 24/50\n",
            "33/33 [==============================] - 0s 3ms/step - loss: 0.1449 - accuracy: 0.9599 - val_loss: 0.2418 - val_accuracy: 0.8923\n",
            "Epoch 25/50\n",
            "33/33 [==============================] - 0s 3ms/step - loss: 0.1605 - accuracy: 0.9388 - val_loss: 0.2473 - val_accuracy: 0.8962\n",
            "Epoch 26/50\n",
            "33/33 [==============================] - 0s 3ms/step - loss: 0.1490 - accuracy: 0.9362 - val_loss: 0.2327 - val_accuracy: 0.9154\n",
            "Epoch 27/50\n",
            "33/33 [==============================] - 0s 3ms/step - loss: 0.1193 - accuracy: 0.9642 - val_loss: 0.2347 - val_accuracy: 0.8962\n",
            "Epoch 28/50\n",
            "33/33 [==============================] - 0s 3ms/step - loss: 0.1290 - accuracy: 0.9615 - val_loss: 0.2240 - val_accuracy: 0.9000\n",
            "Epoch 29/50\n",
            "33/33 [==============================] - 0s 3ms/step - loss: 0.1272 - accuracy: 0.9568 - val_loss: 0.2316 - val_accuracy: 0.8962\n",
            "Epoch 30/50\n",
            "33/33 [==============================] - 0s 3ms/step - loss: 0.1121 - accuracy: 0.9557 - val_loss: 0.2160 - val_accuracy: 0.9000\n",
            "Epoch 31/50\n",
            "33/33 [==============================] - 0s 3ms/step - loss: 0.1285 - accuracy: 0.9545 - val_loss: 0.2355 - val_accuracy: 0.8962\n",
            "Epoch 32/50\n",
            "33/33 [==============================] - 0s 3ms/step - loss: 0.1120 - accuracy: 0.9593 - val_loss: 0.2201 - val_accuracy: 0.9115\n",
            "Epoch 33/50\n",
            "33/33 [==============================] - 0s 3ms/step - loss: 0.0989 - accuracy: 0.9730 - val_loss: 0.2186 - val_accuracy: 0.9077\n",
            "Epoch 34/50\n",
            "33/33 [==============================] - 0s 3ms/step - loss: 0.1117 - accuracy: 0.9655 - val_loss: 0.1981 - val_accuracy: 0.9154\n",
            "Epoch 35/50\n",
            "33/33 [==============================] - 0s 3ms/step - loss: 0.1003 - accuracy: 0.9686 - val_loss: 0.2316 - val_accuracy: 0.9000\n",
            "Epoch 36/50\n",
            "33/33 [==============================] - 0s 3ms/step - loss: 0.1118 - accuracy: 0.9621 - val_loss: 0.2110 - val_accuracy: 0.9077\n",
            "Epoch 37/50\n",
            "33/33 [==============================] - 0s 3ms/step - loss: 0.0916 - accuracy: 0.9741 - val_loss: 0.1810 - val_accuracy: 0.9346\n",
            "Epoch 38/50\n",
            "33/33 [==============================] - 0s 3ms/step - loss: 0.0968 - accuracy: 0.9685 - val_loss: 0.1938 - val_accuracy: 0.9269\n",
            "Epoch 39/50\n",
            "33/33 [==============================] - 0s 3ms/step - loss: 0.0922 - accuracy: 0.9686 - val_loss: 0.1941 - val_accuracy: 0.9269\n",
            "Epoch 40/50\n",
            "33/33 [==============================] - 0s 3ms/step - loss: 0.0890 - accuracy: 0.9754 - val_loss: 0.1880 - val_accuracy: 0.9346\n",
            "Epoch 41/50\n",
            "33/33 [==============================] - 0s 3ms/step - loss: 0.0857 - accuracy: 0.9781 - val_loss: 0.1613 - val_accuracy: 0.9308\n",
            "Epoch 42/50\n",
            "33/33 [==============================] - 0s 3ms/step - loss: 0.0738 - accuracy: 0.9836 - val_loss: 0.2156 - val_accuracy: 0.9000\n",
            "Epoch 43/50\n",
            "33/33 [==============================] - 0s 3ms/step - loss: 0.0950 - accuracy: 0.9729 - val_loss: 0.1693 - val_accuracy: 0.9308\n",
            "Epoch 44/50\n",
            "33/33 [==============================] - 0s 3ms/step - loss: 0.0875 - accuracy: 0.9714 - val_loss: 0.1868 - val_accuracy: 0.9385\n",
            "Epoch 45/50\n",
            "33/33 [==============================] - 0s 3ms/step - loss: 0.0797 - accuracy: 0.9774 - val_loss: 0.1842 - val_accuracy: 0.9154\n",
            "Epoch 46/50\n",
            "33/33 [==============================] - 0s 3ms/step - loss: 0.1021 - accuracy: 0.9549 - val_loss: 0.1775 - val_accuracy: 0.9231\n",
            "Epoch 47/50\n",
            "33/33 [==============================] - 0s 3ms/step - loss: 0.0577 - accuracy: 0.9895 - val_loss: 0.1641 - val_accuracy: 0.9385\n",
            "Epoch 48/50\n",
            "33/33 [==============================] - 0s 4ms/step - loss: 0.0690 - accuracy: 0.9837 - val_loss: 0.1674 - val_accuracy: 0.9423\n",
            "Epoch 49/50\n",
            "33/33 [==============================] - 0s 3ms/step - loss: 0.0647 - accuracy: 0.9831 - val_loss: 0.2024 - val_accuracy: 0.9269\n",
            "Epoch 50/50\n",
            "33/33 [==============================] - 0s 3ms/step - loss: 0.0699 - accuracy: 0.9787 - val_loss: 0.1495 - val_accuracy: 0.9385\n"
          ],
          "name": "stdout"
        }
      ]
    },
    {
      "cell_type": "code",
      "metadata": {
        "id": "vk4GcVsuK4uG"
      },
      "source": [
        "def plot_loss(history):\n",
        "  plt.plot(history.history['accuracy'], label='loss')\n",
        "  plt.plot(history.history['val_accuracy'], label='val_loss')\n",
        "  plt.xlabel('Epoch')\n",
        "  plt.ylabel('accuracy')\n",
        "  plt.legend()\n",
        "  plt.grid(True)"
      ],
      "execution_count": null,
      "outputs": []
    },
    {
      "cell_type": "code",
      "metadata": {
        "colab": {
          "base_uri": "https://localhost:8080/",
          "height": 283
        },
        "id": "G0Rf5jpYK4uG",
        "outputId": "e872d929-040c-4bd2-9a1d-84e6ddb981eb"
      },
      "source": [
        "plot_loss(history)"
      ],
      "execution_count": null,
      "outputs": [
        {
          "output_type": "display_data",
          "data": {
            "image/png": "[encoded data removed]",
            "text/plain": [
              "<Figure size 432x288 with 1 Axes>"
            ]
          },
          "metadata": {
            "tags": []
          }
        }
      ]
    },
    {
      "cell_type": "markdown",
      "metadata": {
        "id": "j2hLcdQuK4uG"
      },
      "source": [
        "With Neural Network too we werre able to achieve around 0.97-0.98 accuracy on train set while validation was around 0.95"
      ]
    },
    {
      "cell_type": "markdown",
      "metadata": {
        "id": "D4d9bUZqK4uG"
      },
      "source": [
        "**Final Conclusion** With all models having \"class\" as our target variable we were easily achieve the accuracy of 0.97."
      ]
    },
    {
      "cell_type": "markdown",
      "metadata": {
        "id": "W_oIKvgYPOpN"
      },
      "source": [
        "## Target Variable: buying and Variable: Class"
      ]
    },
    {
      "cell_type": "markdown",
      "metadata": {
        "id": "h3x6pbAEPYHW"
      },
      "source": [
        "As we saw earliear in the heatmap, only \"class\" variable was showing any correlation with target \"buying\"  and with other variable it was zero, so we will try to build a model with only variable class."
      ]
    },
    {
      "cell_type": "code",
      "metadata": {
        "id": "BIQsH7ovPrD-"
      },
      "source": [
        "x = car_df[\"class\"].values.reshape(-1, 1)\n",
        "y = car_df[\"buying\"]"
      ],
      "execution_count": null,
      "outputs": []
    },
    {
      "cell_type": "code",
      "metadata": {
        "id": "q44-_n-pBB5g"
      },
      "source": [
        "# Split the X and y to train and test set\n",
        "\n",
        "from sklearn.model_selection import train_test_split\n",
        "\n",
        "X_train, X_test, y_train, y_test = train_test_split(x, y, test_size=0.25, random_state=42)"
      ],
      "execution_count": null,
      "outputs": []
    },
    {
      "cell_type": "code",
      "metadata": {
        "colab": {
          "base_uri": "https://localhost:8080/"
        },
        "id": "lj_rLhKoI1jW",
        "outputId": "9da8f4c4-1b3e-4cb1-fd98-10ddcdb3a97b"
      },
      "source": [
        "print(f\"Shape of X_train: {X_train.shape} and y_train: {y_train.shape}\")\n",
        "print(f\"Shape of X_test: {X_test.shape} and y_test: {y_test.shape}\")"
      ],
      "execution_count": null,
      "outputs": [
        {
          "output_type": "stream",
          "text": [
            "Shape of X_train: (1296, 1) and y_train: (1296,)\n",
            "Shape of X_test: (432, 1) and y_test: (432,)\n"
          ],
          "name": "stdout"
        }
      ]
    },
    {
      "cell_type": "markdown",
      "metadata": {
        "id": "2YdznPe-QFIk"
      },
      "source": [
        "## KNN Classifier (Target: Buying)"
      ]
    },
    {
      "cell_type": "code",
      "metadata": {
        "id": "7j_1yQSaQFIl"
      },
      "source": [
        "knn = KNeighborsClassifier(n_jobs=-1)"
      ],
      "execution_count": null,
      "outputs": []
    },
    {
      "cell_type": "code",
      "metadata": {
        "colab": {
          "base_uri": "https://localhost:8080/"
        },
        "id": "ZKmKNzp4QFIm",
        "outputId": "9b8a43c7-0561-4e17-ae52-79d441bc5d0d"
      },
      "source": [
        "knn.fit(X_train, y_train)\n",
        "\n",
        "pred = knn.predict(X_test)\n",
        "print(f\"Accuracy of knn classifier is: {knn.score(X_test, y_test)}\")"
      ],
      "execution_count": null,
      "outputs": [
        {
          "output_type": "stream",
          "text": [
            "Accuracy of knn classifier is: 0.23148148148148148\n"
          ],
          "name": "stdout"
        }
      ]
    },
    {
      "cell_type": "code",
      "metadata": {
        "colab": {
          "base_uri": "https://localhost:8080/"
        },
        "id": "0rd_7VqzQFIm",
        "outputId": "a40994d8-a0f9-4608-e74f-c2655ad35afe"
      },
      "source": [
        "print(classification_report(y_test,pred))"
      ],
      "execution_count": null,
      "outputs": [
        {
          "output_type": "stream",
          "text": [
            "              precision    recall  f1-score   support\n",
            "\n",
            "           0       0.26      0.23      0.24       120\n",
            "           1       0.22      0.66      0.33       103\n",
            "           2       0.33      0.05      0.09       100\n",
            "           3       0.00      0.00      0.00       109\n",
            "\n",
            "    accuracy                           0.23       432\n",
            "   macro avg       0.20      0.23      0.16       432\n",
            "weighted avg       0.20      0.23      0.17       432\n",
            "\n"
          ],
          "name": "stdout"
        },
        {
          "output_type": "stream",
          "text": [
            "/usr/local/lib/python3.7/dist-packages/sklearn/metrics/_classification.py:1272: UndefinedMetricWarning: Precision and F-score are ill-defined and being set to 0.0 in labels with no predicted samples. Use `zero_division` parameter to control this behavior.\n",
            "  _warn_prf(average, modifier, msg_start, len(result))\n"
          ],
          "name": "stderr"
        }
      ]
    },
    {
      "cell_type": "markdown",
      "metadata": {
        "id": "i4Vv9lM9QFIm"
      },
      "source": [
        "So with KNN, we can only be able to achieve an accuracy of 0.23 whereas the F1 score stands at 0.16. Which is quite higher than taking all variables though in terms of accuracy."
      ]
    },
    {
      "cell_type": "code",
      "metadata": {
        "id": "Q01nMaliQFIn"
      },
      "source": [
        "# Trying KNN with different number of neightbours\n",
        "\n",
        "avg_score=[]\n",
        "for k in range(2,20):\n",
        "    knn=KNeighborsClassifier(n_jobs=-1,n_neighbors=k)\n",
        "    score=cross_val_score(knn,X_train,y_train,cv=5,n_jobs=-1,scoring='accuracy')\n",
        "    avg_score.append(score.mean())"
      ],
      "execution_count": null,
      "outputs": []
    },
    {
      "cell_type": "code",
      "metadata": {
        "colab": {
          "base_uri": "https://localhost:8080/",
          "height": 352
        },
        "id": "FN8pMyCCQFIn",
        "outputId": "c28498a0-b302-420b-d26a-c46ef13b19ba"
      },
      "source": [
        "plt.figure(figsize=(10,5))\n",
        "plt.plot(range(2,20, 1),avg_score)\n",
        "plt.xlabel(\"n_neighbours\")\n",
        "plt.ylabel(\"accuracy\")"
      ],
      "execution_count": null,
      "outputs": [
        {
          "output_type": "execute_result",
          "data": {
            "text/plain": [
              "Text(0, 0.5, 'accuracy')"
            ]
          },
          "metadata": {
            "tags": []
          },
          "execution_count": 144
        },
        {
          "output_type": "display_data",
          "data": {
            "image/png": "[encoded data removed]",
            "text/plain": [
              "<Figure size 720x360 with 1 Axes>"
            ]
          },
          "metadata": {
            "tags": []
          }
        }
      ]
    },
    {
      "cell_type": "markdown",
      "metadata": {
        "id": "mf2Q3mKTQFIn"
      },
      "source": [
        "**Conclusion:** From the above plot we can find out that even with neighbours=4, we can only reach 0.29 accuracy."
      ]
    },
    {
      "cell_type": "markdown",
      "metadata": {
        "id": "bzFTA5ixQFIn"
      },
      "source": [
        "## Logistic Regression"
      ]
    },
    {
      "cell_type": "code",
      "metadata": {
        "id": "2xyhfe62QFIo"
      },
      "source": [
        "logclf=LogisticRegression()"
      ],
      "execution_count": null,
      "outputs": []
    },
    {
      "cell_type": "code",
      "metadata": {
        "colab": {
          "base_uri": "https://localhost:8080/"
        },
        "id": "kNlc9ZGEQFIo",
        "outputId": "f0185146-e344-46bb-d661-797f2d3938b5"
      },
      "source": [
        "logclf.fit(X_train,y_train)"
      ],
      "execution_count": null,
      "outputs": [
        {
          "output_type": "execute_result",
          "data": {
            "text/plain": [
              "LogisticRegression(C=1.0, class_weight=None, dual=False, fit_intercept=True,\n",
              "                   intercept_scaling=1, l1_ratio=None, max_iter=100,\n",
              "                   multi_class='auto', n_jobs=None, penalty='l2',\n",
              "                   random_state=None, solver='lbfgs', tol=0.0001, verbose=0,\n",
              "                   warm_start=False)"
            ]
          },
          "metadata": {
            "tags": []
          },
          "execution_count": 146
        }
      ]
    },
    {
      "cell_type": "code",
      "metadata": {
        "id": "LLmso7-RQFIo"
      },
      "source": [
        "pred=logclf.predict(X_test)"
      ],
      "execution_count": null,
      "outputs": []
    },
    {
      "cell_type": "code",
      "metadata": {
        "colab": {
          "base_uri": "https://localhost:8080/"
        },
        "id": "QHClV1LzQFIo",
        "outputId": "55240b9a-5a3e-4fda-c40d-0c9614997f64"
      },
      "source": [
        "logclf.score(X_test,y_test)"
      ],
      "execution_count": null,
      "outputs": [
        {
          "output_type": "execute_result",
          "data": {
            "text/plain": [
              "0.3194444444444444"
            ]
          },
          "metadata": {
            "tags": []
          },
          "execution_count": 148
        }
      ]
    },
    {
      "cell_type": "markdown",
      "metadata": {
        "id": "dhheftPiQFIo"
      },
      "source": [
        "With Basic default configs of Logistic Regression, we are able to get 0.31 accuracy."
      ]
    },
    {
      "cell_type": "code",
      "metadata": {
        "colab": {
          "base_uri": "https://localhost:8080/",
          "height": 530
        },
        "id": "lwXWArFVQFIo",
        "outputId": "da571270-3a73-408b-d8c4-077d12b2531e"
      },
      "source": [
        "lc=learning_curve(logclf,X_train,y_train,cv=10,n_jobs=-1)\n",
        "size=lc[0]\n",
        "train_score=[lc[1][i].mean() for i in range (0,5)]\n",
        "test_score=[lc[2][i].mean() for i in range (0,5)]\n",
        "fig=plt.figure(figsize=(12,8))\n",
        "plt.title(\"Learning curve using Logistic Regression\")\n",
        "plt.xlabel(\"Number of samples\")\n",
        "plt.ylabel(\"Accuracy\")\n",
        "plt.plot(size,train_score, label=\"Training\")\n",
        "plt.legend(loc='best')\n",
        "plt.plot(size,test_score, label=\"Testing\")\n",
        "plt.legend(loc='best')"
      ],
      "execution_count": null,
      "outputs": [
        {
          "output_type": "execute_result",
          "data": {
            "text/plain": [
              "<matplotlib.legend.Legend at 0x7f2faa50d610>"
            ]
          },
          "metadata": {
            "tags": []
          },
          "execution_count": 149
        },
        {
          "output_type": "display_data",
          "data": {
            "image/png": "[encoded data removed]",
            "text/plain": [
              "<Figure size 864x576 with 1 Axes>"
            ]
          },
          "metadata": {
            "tags": []
          }
        }
      ]
    },
    {
      "cell_type": "code",
      "metadata": {
        "id": "sgZohuylQFIp"
      },
      "source": [
        "# Using Grid Search for hyperparameter Optimization\n",
        "param_grid={'C':[0.01,0.1,1,10],\n",
        "           'solver':['newton-cg', 'lbfgs', 'sag'],\n",
        "           'multi_class':['multinomial']}\n",
        "grid=GridSearchCV(estimator=LogisticRegression(n_jobs=-1),param_grid=param_grid,cv=5,n_jobs=-1)"
      ],
      "execution_count": null,
      "outputs": []
    },
    {
      "cell_type": "code",
      "metadata": {
        "colab": {
          "base_uri": "https://localhost:8080/"
        },
        "id": "EWfBuvBhQFIp",
        "outputId": "dc325850-5510-4ca2-ee00-4552656811d4"
      },
      "source": [
        "grid.fit(X_train,y_train)"
      ],
      "execution_count": null,
      "outputs": [
        {
          "output_type": "execute_result",
          "data": {
            "text/plain": [
              "GridSearchCV(cv=5, error_score=nan,\n",
              "             estimator=LogisticRegression(C=1.0, class_weight=None, dual=False,\n",
              "                                          fit_intercept=True,\n",
              "                                          intercept_scaling=1, l1_ratio=None,\n",
              "                                          max_iter=100, multi_class='auto',\n",
              "                                          n_jobs=-1, penalty='l2',\n",
              "                                          random_state=None, solver='lbfgs',\n",
              "                                          tol=0.0001, verbose=0,\n",
              "                                          warm_start=False),\n",
              "             iid='deprecated', n_jobs=-1,\n",
              "             param_grid={'C': [0.01, 0.1, 1, 10],\n",
              "                         'multi_class': ['multinomial'],\n",
              "                         'solver': ['newton-cg', 'lbfgs', 'sag']},\n",
              "             pre_dispatch='2*n_jobs', refit=True, return_train_score=False,\n",
              "             scoring=None, verbose=0)"
            ]
          },
          "metadata": {
            "tags": []
          },
          "execution_count": 151
        }
      ]
    },
    {
      "cell_type": "code",
      "metadata": {
        "colab": {
          "base_uri": "https://localhost:8080/"
        },
        "id": "5njLio06QFIp",
        "outputId": "ddfa4ee5-b397-4de2-ffa2-db91c06d2819"
      },
      "source": [
        "# Printing the best configs from the grid search\n",
        "print(grid.best_params_)\n",
        "print(grid.best_score_)"
      ],
      "execution_count": null,
      "outputs": [
        {
          "output_type": "stream",
          "text": [
            "{'C': 0.01, 'multi_class': 'multinomial', 'solver': 'newton-cg'}\n",
            "0.30556578556578556\n"
          ],
          "name": "stdout"
        }
      ]
    },
    {
      "cell_type": "markdown",
      "metadata": {
        "id": "P-4GZLVDQFIp"
      },
      "source": [
        "**Conclusion:** Even with the best configuration for the Logistic Regression our accuracy is 0.30"
      ]
    },
    {
      "cell_type": "markdown",
      "metadata": {
        "id": "JhO-D342QFIp"
      },
      "source": [
        "## Random Forest"
      ]
    },
    {
      "cell_type": "code",
      "metadata": {
        "id": "n8UFQiaFQFIq"
      },
      "source": [
        "from sklearn.metrics import f1_score"
      ],
      "execution_count": null,
      "outputs": []
    },
    {
      "cell_type": "code",
      "metadata": {
        "id": "Lhg34ddGQFIq"
      },
      "source": [
        "rf_clf=RandomForestClassifier(n_jobs=-1,random_state=51)"
      ],
      "execution_count": null,
      "outputs": []
    },
    {
      "cell_type": "code",
      "metadata": {
        "colab": {
          "base_uri": "https://localhost:8080/"
        },
        "id": "wovNN5atQFIq",
        "outputId": "e54071e7-e795-4b2b-ae81-5d771c3af40d"
      },
      "source": [
        "rf_clf.fit(X_train,y_train)\n",
        "print(f\"Accuracy using Random Forest: {rf_clf.score(X_test,y_test)}\")\n",
        "print(f\"F1 Score using Random Forest: {f1_score(y_test,rf_clf.predict(X_test),average='macro')}\")"
      ],
      "execution_count": null,
      "outputs": [
        {
          "output_type": "stream",
          "text": [
            "Accuracy using Random Forest: 0.3402777777777778\n",
            "F1 Score using Random Forest: 0.2739747194818047\n"
          ],
          "name": "stdout"
        }
      ]
    },
    {
      "cell_type": "markdown",
      "metadata": {
        "id": "OJyAtY9UQFIr"
      },
      "source": [
        "With Random Forest Classifier, we get 0.34 accuracy which is an improvement over the random forest which was trained on every features."
      ]
    },
    {
      "cell_type": "code",
      "metadata": {
        "id": "IeRP5jqFQFIr"
      },
      "source": [
        "# Using Grid Search for hyper parameter optimizatio\n",
        "param_grid={'criterion':['gini','entropy'],\n",
        "           'max_depth':[2,5,10,20],\n",
        "           'max_features':[2,4,6,'auto'],\n",
        "           'max_leaf_nodes':[2,3,None],}\n",
        "\n",
        "\n",
        "grid=GridSearchCV(estimator=RandomForestClassifier(n_estimators=50,n_jobs=-1,random_state=51),\n",
        "                  param_grid=param_grid,cv=10,n_jobs=-1)"
      ],
      "execution_count": null,
      "outputs": []
    },
    {
      "cell_type": "code",
      "metadata": {
        "colab": {
          "base_uri": "https://localhost:8080/"
        },
        "id": "1RVCyNTOQFIs",
        "outputId": "982537ce-77d0-4791-8746-7aa948841736"
      },
      "source": [
        "grid.fit(X_train,y_train)"
      ],
      "execution_count": null,
      "outputs": [
        {
          "output_type": "execute_result",
          "data": {
            "text/plain": [
              "GridSearchCV(cv=10, error_score=nan,\n",
              "             estimator=RandomForestClassifier(bootstrap=True, ccp_alpha=0.0,\n",
              "                                              class_weight=None,\n",
              "                                              criterion='gini', max_depth=None,\n",
              "                                              max_features='auto',\n",
              "                                              max_leaf_nodes=None,\n",
              "                                              max_samples=None,\n",
              "                                              min_impurity_decrease=0.0,\n",
              "                                              min_impurity_split=None,\n",
              "                                              min_samples_leaf=1,\n",
              "                                              min_samples_split=2,\n",
              "                                              min_weight_fraction_leaf=0.0,\n",
              "                                              n_estimators=50, n_jobs=-1,\n",
              "                                              oob_score=False, random_state=51,\n",
              "                                              verbose=0, warm_start=False),\n",
              "             iid='deprecated', n_jobs=-1,\n",
              "             param_grid={'criterion': ['gini', 'entropy'],\n",
              "                         'max_depth': [2, 5, 10, 20],\n",
              "                         'max_features': [2, 4, 6, 'auto'],\n",
              "                         'max_leaf_nodes': [2, 3, None]},\n",
              "             pre_dispatch='2*n_jobs', refit=True, return_train_score=False,\n",
              "             scoring=None, verbose=0)"
            ]
          },
          "metadata": {
            "tags": []
          },
          "execution_count": 157
        }
      ]
    },
    {
      "cell_type": "code",
      "metadata": {
        "colab": {
          "base_uri": "https://localhost:8080/"
        },
        "id": "UxwlTpyUQFIs",
        "outputId": "603da1a4-572f-44b4-83b9-86e93ceba9fa"
      },
      "source": [
        "print(f\"Random forest optimized configs for the parameters: {grid.best_params_}\")\n",
        "print(f\"Best accuracy we got using best configs for Random forest: {grid.best_score_}\")"
      ],
      "execution_count": null,
      "outputs": [
        {
          "output_type": "stream",
          "text": [
            "Random forest optimized configs for the parameters: {'criterion': 'gini', 'max_depth': 2, 'max_features': 'auto', 'max_leaf_nodes': 3}\n",
            "Best accuracy we got using best configs for Random forest: 0.30787716159809186\n"
          ],
          "name": "stdout"
        }
      ]
    },
    {
      "cell_type": "code",
      "metadata": {
        "colab": {
          "base_uri": "https://localhost:8080/",
          "height": 530
        },
        "id": "guCDiMpoQFIs",
        "outputId": "6c0c5c59-9428-43a2-b477-d9d22e739eaa"
      },
      "source": [
        "lc=learning_curve(RandomForestClassifier(n_estimators=50,criterion='gini',max_features='auto',max_depth=2,random_state=42,\n",
        "                                             max_leaf_nodes=None,n_jobs=-1,),X_train,y_train,cv=5,n_jobs=-1)\n",
        "size=lc[0]\n",
        "train_score=[lc[1][i].mean() for i in range (0,5)]\n",
        "test_score=[lc[2][i].mean() for i in range (0,5)]\n",
        "fig=plt.figure(figsize=(12,8))\n",
        "plt.title(\"Learning curve using Random Forest\")\n",
        "plt.xlabel(\"Number of samples\")\n",
        "plt.ylabel(\"Accuracy\")\n",
        "plt.plot(size,train_score, label=\"Training\")\n",
        "plt.legend(loc='best')\n",
        "plt.plot(size,test_score, label=\"Testing\")\n",
        "plt.legend(loc='best')"
      ],
      "execution_count": null,
      "outputs": [
        {
          "output_type": "execute_result",
          "data": {
            "text/plain": [
              "<matplotlib.legend.Legend at 0x7f2faa4afe10>"
            ]
          },
          "metadata": {
            "tags": []
          },
          "execution_count": 160
        },
        {
          "output_type": "display_data",
          "data": {
            "image/png": "[encoded data removed]",
            "text/plain": [
              "<Figure size 864x576 with 1 Axes>"
            ]
          },
          "metadata": {
            "tags": []
          }
        }
      ]
    },
    {
      "cell_type": "markdown",
      "metadata": {
        "id": "LY8GAtryQFIt"
      },
      "source": [
        "**Conclusion** With having random forest best configs we were able to achieve 0.34 accuracy."
      ]
    },
    {
      "cell_type": "markdown",
      "metadata": {
        "id": "sulJ014fQFIt"
      },
      "source": [
        "## Neural Network"
      ]
    },
    {
      "cell_type": "code",
      "metadata": {
        "id": "U5180QcZQFIt"
      },
      "source": [
        "model = tf.keras.Sequential([\n",
        "  tf.keras.layers.Dense(128, activation='relu'),\n",
        "  tf.keras.layers.Dense(64, activation='relu'),\n",
        "  tf.keras.layers.Dense(4)\n",
        "])"
      ],
      "execution_count": null,
      "outputs": []
    },
    {
      "cell_type": "code",
      "metadata": {
        "id": "lhlAomXLQFIt"
      },
      "source": [
        "model.compile(optimizer='adam',\n",
        "                loss=tf.keras.losses.SparseCategoricalCrossentropy(from_logits=True),\n",
        "                metrics=['accuracy'])"
      ],
      "execution_count": null,
      "outputs": []
    },
    {
      "cell_type": "code",
      "metadata": {
        "colab": {
          "base_uri": "https://localhost:8080/"
        },
        "id": "UU8yaJhIQFIt",
        "outputId": "dfa6b1ef-926f-4ff2-d9bc-251287d54290"
      },
      "source": [
        "history = model.fit(X_train, y_train, validation_split=0.2, epochs=50)"
      ],
      "execution_count": null,
      "outputs": [
        {
          "output_type": "stream",
          "text": [
            "Epoch 1/50\n",
            "33/33 [==============================] - 1s 8ms/step - loss: 1.3885 - accuracy: 0.2335 - val_loss: 1.3464 - val_accuracy: 0.3038\n",
            "Epoch 2/50\n",
            "33/33 [==============================] - 0s 3ms/step - loss: 1.3564 - accuracy: 0.3242 - val_loss: 1.3398 - val_accuracy: 0.3038\n",
            "Epoch 3/50\n",
            "33/33 [==============================] - 0s 3ms/step - loss: 1.3494 - accuracy: 0.3200 - val_loss: 1.3366 - val_accuracy: 0.3038\n",
            "Epoch 4/50\n",
            "33/33 [==============================] - 0s 3ms/step - loss: 1.3491 - accuracy: 0.3313 - val_loss: 1.3334 - val_accuracy: 0.3115\n",
            "Epoch 5/50\n",
            "33/33 [==============================] - 0s 3ms/step - loss: 1.3524 - accuracy: 0.2998 - val_loss: 1.3296 - val_accuracy: 0.3038\n",
            "Epoch 6/50\n",
            "33/33 [==============================] - 0s 3ms/step - loss: 1.3462 - accuracy: 0.3097 - val_loss: 1.3270 - val_accuracy: 0.3115\n",
            "Epoch 7/50\n",
            "33/33 [==============================] - 0s 3ms/step - loss: 1.3484 - accuracy: 0.3039 - val_loss: 1.3257 - val_accuracy: 0.3115\n",
            "Epoch 8/50\n",
            "33/33 [==============================] - 0s 3ms/step - loss: 1.3371 - accuracy: 0.3090 - val_loss: 1.3237 - val_accuracy: 0.3115\n",
            "Epoch 9/50\n",
            "33/33 [==============================] - 0s 3ms/step - loss: 1.3355 - accuracy: 0.3213 - val_loss: 1.3211 - val_accuracy: 0.3115\n",
            "Epoch 10/50\n",
            "33/33 [==============================] - 0s 3ms/step - loss: 1.3459 - accuracy: 0.2972 - val_loss: 1.3185 - val_accuracy: 0.3115\n",
            "Epoch 11/50\n",
            "33/33 [==============================] - 0s 3ms/step - loss: 1.3311 - accuracy: 0.3217 - val_loss: 1.3177 - val_accuracy: 0.3115\n",
            "Epoch 12/50\n",
            "33/33 [==============================] - 0s 3ms/step - loss: 1.3327 - accuracy: 0.3162 - val_loss: 1.3157 - val_accuracy: 0.3115\n",
            "Epoch 13/50\n",
            "33/33 [==============================] - 0s 3ms/step - loss: 1.3396 - accuracy: 0.3235 - val_loss: 1.3151 - val_accuracy: 0.3115\n",
            "Epoch 14/50\n",
            "33/33 [==============================] - 0s 3ms/step - loss: 1.3299 - accuracy: 0.3163 - val_loss: 1.3127 - val_accuracy: 0.3115\n",
            "Epoch 15/50\n",
            "33/33 [==============================] - 0s 3ms/step - loss: 1.3424 - accuracy: 0.3001 - val_loss: 1.3119 - val_accuracy: 0.3115\n",
            "Epoch 16/50\n",
            "33/33 [==============================] - 0s 3ms/step - loss: 1.3372 - accuracy: 0.3277 - val_loss: 1.3121 - val_accuracy: 0.3115\n",
            "Epoch 17/50\n",
            "33/33 [==============================] - 0s 3ms/step - loss: 1.3328 - accuracy: 0.3053 - val_loss: 1.3109 - val_accuracy: 0.3115\n",
            "Epoch 18/50\n",
            "33/33 [==============================] - 0s 3ms/step - loss: 1.3235 - accuracy: 0.3300 - val_loss: 1.3103 - val_accuracy: 0.3115\n",
            "Epoch 19/50\n",
            "33/33 [==============================] - 0s 3ms/step - loss: 1.3372 - accuracy: 0.3125 - val_loss: 1.3102 - val_accuracy: 0.3115\n",
            "Epoch 20/50\n",
            "33/33 [==============================] - 0s 3ms/step - loss: 1.3292 - accuracy: 0.3452 - val_loss: 1.3113 - val_accuracy: 0.3115\n",
            "Epoch 21/50\n",
            "33/33 [==============================] - 0s 3ms/step - loss: 1.3214 - accuracy: 0.3316 - val_loss: 1.3080 - val_accuracy: 0.3115\n",
            "Epoch 22/50\n",
            "33/33 [==============================] - 0s 3ms/step - loss: 1.3250 - accuracy: 0.3285 - val_loss: 1.3090 - val_accuracy: 0.3115\n",
            "Epoch 23/50\n",
            "33/33 [==============================] - 0s 2ms/step - loss: 1.3272 - accuracy: 0.3275 - val_loss: 1.3087 - val_accuracy: 0.3115\n",
            "Epoch 24/50\n",
            "33/33 [==============================] - 0s 3ms/step - loss: 1.3355 - accuracy: 0.3086 - val_loss: 1.3084 - val_accuracy: 0.3115\n",
            "Epoch 25/50\n",
            "33/33 [==============================] - 0s 3ms/step - loss: 1.3364 - accuracy: 0.3019 - val_loss: 1.3087 - val_accuracy: 0.3115\n",
            "Epoch 26/50\n",
            "33/33 [==============================] - 0s 2ms/step - loss: 1.3280 - accuracy: 0.3229 - val_loss: 1.3086 - val_accuracy: 0.3115\n",
            "Epoch 27/50\n",
            "33/33 [==============================] - 0s 3ms/step - loss: 1.3335 - accuracy: 0.3231 - val_loss: 1.3079 - val_accuracy: 0.3115\n",
            "Epoch 28/50\n",
            "33/33 [==============================] - 0s 3ms/step - loss: 1.3373 - accuracy: 0.2977 - val_loss: 1.3072 - val_accuracy: 0.3115\n",
            "Epoch 29/50\n",
            "33/33 [==============================] - 0s 3ms/step - loss: 1.3353 - accuracy: 0.3131 - val_loss: 1.3081 - val_accuracy: 0.3115\n",
            "Epoch 30/50\n",
            "33/33 [==============================] - 0s 3ms/step - loss: 1.3238 - accuracy: 0.3442 - val_loss: 1.3075 - val_accuracy: 0.3115\n",
            "Epoch 31/50\n",
            "33/33 [==============================] - 0s 3ms/step - loss: 1.3351 - accuracy: 0.3087 - val_loss: 1.3069 - val_accuracy: 0.3115\n",
            "Epoch 32/50\n",
            "33/33 [==============================] - 0s 3ms/step - loss: 1.3228 - accuracy: 0.3209 - val_loss: 1.3071 - val_accuracy: 0.3115\n",
            "Epoch 33/50\n",
            "33/33 [==============================] - 0s 3ms/step - loss: 1.3339 - accuracy: 0.3172 - val_loss: 1.3070 - val_accuracy: 0.3115\n",
            "Epoch 34/50\n",
            "33/33 [==============================] - 0s 2ms/step - loss: 1.3225 - accuracy: 0.3286 - val_loss: 1.3068 - val_accuracy: 0.3115\n",
            "Epoch 35/50\n",
            "33/33 [==============================] - 0s 3ms/step - loss: 1.3319 - accuracy: 0.3254 - val_loss: 1.3064 - val_accuracy: 0.3115\n",
            "Epoch 36/50\n",
            "33/33 [==============================] - 0s 2ms/step - loss: 1.3276 - accuracy: 0.3108 - val_loss: 1.3068 - val_accuracy: 0.3115\n",
            "Epoch 37/50\n",
            "33/33 [==============================] - 0s 2ms/step - loss: 1.3443 - accuracy: 0.2940 - val_loss: 1.3063 - val_accuracy: 0.3115\n",
            "Epoch 38/50\n",
            "33/33 [==============================] - 0s 3ms/step - loss: 1.3336 - accuracy: 0.3224 - val_loss: 1.3069 - val_accuracy: 0.3115\n",
            "Epoch 39/50\n",
            "33/33 [==============================] - 0s 3ms/step - loss: 1.3414 - accuracy: 0.3009 - val_loss: 1.3066 - val_accuracy: 0.3115\n",
            "Epoch 40/50\n",
            "33/33 [==============================] - 0s 3ms/step - loss: 1.3368 - accuracy: 0.3143 - val_loss: 1.3068 - val_accuracy: 0.3115\n",
            "Epoch 41/50\n",
            "33/33 [==============================] - 0s 3ms/step - loss: 1.3318 - accuracy: 0.3169 - val_loss: 1.3066 - val_accuracy: 0.3115\n",
            "Epoch 42/50\n",
            "33/33 [==============================] - 0s 3ms/step - loss: 1.3268 - accuracy: 0.3271 - val_loss: 1.3064 - val_accuracy: 0.3115\n",
            "Epoch 43/50\n",
            "33/33 [==============================] - 0s 3ms/step - loss: 1.3311 - accuracy: 0.3233 - val_loss: 1.3065 - val_accuracy: 0.3115\n",
            "Epoch 44/50\n",
            "33/33 [==============================] - 0s 3ms/step - loss: 1.3244 - accuracy: 0.3302 - val_loss: 1.3057 - val_accuracy: 0.3115\n",
            "Epoch 45/50\n",
            "33/33 [==============================] - 0s 3ms/step - loss: 1.3302 - accuracy: 0.3262 - val_loss: 1.3070 - val_accuracy: 0.3115\n",
            "Epoch 46/50\n",
            "33/33 [==============================] - 0s 3ms/step - loss: 1.3287 - accuracy: 0.3266 - val_loss: 1.3064 - val_accuracy: 0.3115\n",
            "Epoch 47/50\n",
            "33/33 [==============================] - 0s 3ms/step - loss: 1.3280 - accuracy: 0.3416 - val_loss: 1.3061 - val_accuracy: 0.3115\n",
            "Epoch 48/50\n",
            "33/33 [==============================] - 0s 3ms/step - loss: 1.3375 - accuracy: 0.3062 - val_loss: 1.3062 - val_accuracy: 0.3115\n",
            "Epoch 49/50\n",
            "33/33 [==============================] - 0s 3ms/step - loss: 1.3264 - accuracy: 0.3205 - val_loss: 1.3068 - val_accuracy: 0.3115\n",
            "Epoch 50/50\n",
            "33/33 [==============================] - 0s 3ms/step - loss: 1.3388 - accuracy: 0.3082 - val_loss: 1.3069 - val_accuracy: 0.3115\n"
          ],
          "name": "stdout"
        }
      ]
    },
    {
      "cell_type": "code",
      "metadata": {
        "id": "TDM0-MARQFIu"
      },
      "source": [
        "def plot_loss(history):\n",
        "  plt.plot(history.history['accuracy'], label='Accuracy')\n",
        "  plt.plot(history.history['val_accuracy'], label='val_accuracy')\n",
        "  plt.xlabel('Epoch')\n",
        "  plt.ylabel('Accuracy')\n",
        "  plt.legend()\n",
        "  plt.grid(True)"
      ],
      "execution_count": null,
      "outputs": []
    },
    {
      "cell_type": "code",
      "metadata": {
        "colab": {
          "base_uri": "https://localhost:8080/",
          "height": 279
        },
        "id": "--P2OCo0QFIu",
        "outputId": "ca84068c-1abc-4c3f-a0d9-b2ffb86f4a1c"
      },
      "source": [
        "plot_loss(history)"
      ],
      "execution_count": null,
      "outputs": [
        {
          "output_type": "display_data",
          "data": {
            "image/png": "[encoded data removed]",
            "text/plain": [
              "<Figure size 432x288 with 1 Axes>"
            ]
          },
          "metadata": {
            "tags": []
          }
        }
      ]
    },
    {
      "cell_type": "markdown",
      "metadata": {
        "id": "7DcjMg1DRqDU"
      },
      "source": [
        "**NN Conclusing:** So after training Neural network we got around 0.32 accuracy on training and 0.31 on validation.\n",
        "\n",
        "**Conclusion**: Having just one feature we manage to get 0.34 at best which is quite similar to what we have already training with all features. Which shows that other variables with having target variable \"buying\" doesn't contribute anything to the training whereas taking the target \"class\" we were able to get an accuracy of 0.97 which is quite larger than what we have with it's counterpart."
      ]
    }
  ]
}